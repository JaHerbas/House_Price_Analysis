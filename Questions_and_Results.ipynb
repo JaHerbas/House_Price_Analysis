{
 "cells": [
  {
   "cell_type": "markdown",
   "metadata": {},
   "source": [
    "# Additional EDA"
   ]
  },
  {
   "cell_type": "markdown",
   "metadata": {},
   "source": [
    "This Notebook will describe additional EDA and engineering done on the data with the objective of answering the following questions:\n",
    "\n",
    "* Which sector should you be looking at? and what price per square foot will you get?\n",
    "* Should you be looking at the waterfront or in-land?\n",
    "* Should you invest in new or older properties?\n",
    "* How many bedrooms should you be looking at?\n",
    "* How many bathrooms should you be looking for?\n",
    "\n",
    "This dataset was cleaned in a separate Notebook and once done, a final cutoff of 1 million dollars was applied. Look at the \"Cleaning\" document for details\n",
    "\n",
    "I will start this document by importing the necessary libraries, followed by the data loading and then going into detail by questions. "
   ]
  },
  {
   "cell_type": "markdown",
   "metadata": {},
   "source": [
    "## Libraries"
   ]
  },
  {
   "cell_type": "code",
   "execution_count": 59,
   "metadata": {
    "ExecuteTime": {
     "end_time": "2020-07-24T23:09:22.051225Z",
     "start_time": "2020-07-24T23:09:22.030635Z"
    }
   },
   "outputs": [],
   "source": [
    "import  pandas as pd\n",
    "import  numpy as np \n",
    "import matplotlib.pyplot as plt\n",
    "import seaborn as sns\n",
    "\n",
    "import folium\n",
    "from folium.plugins import HeatMap\n",
    "\n",
    "%matplotlib inline\n",
    "sns.set_style('darkgrid')"
   ]
  },
  {
   "cell_type": "code",
   "execution_count": 60,
   "metadata": {
    "ExecuteTime": {
     "end_time": "2020-07-24T23:09:24.269659Z",
     "start_time": "2020-07-24T23:09:24.267215Z"
    }
   },
   "outputs": [],
   "source": [
    "import warnings\n",
    "warnings.filterwarnings('ignore')"
   ]
  },
  {
   "cell_type": "markdown",
   "metadata": {},
   "source": [
    "## Data Loading"
   ]
  },
  {
   "cell_type": "code",
   "execution_count": 3,
   "metadata": {
    "ExecuteTime": {
     "end_time": "2020-07-24T19:36:27.478666Z",
     "start_time": "2020-07-24T19:36:27.341561Z"
    }
   },
   "outputs": [
    {
     "data": {
      "text/html": [
       "<div>\n",
       "<style scoped>\n",
       "    .dataframe tbody tr th:only-of-type {\n",
       "        vertical-align: middle;\n",
       "    }\n",
       "\n",
       "    .dataframe tbody tr th {\n",
       "        vertical-align: top;\n",
       "    }\n",
       "\n",
       "    .dataframe thead th {\n",
       "        text-align: right;\n",
       "    }\n",
       "</style>\n",
       "<table border=\"1\" class=\"dataframe\">\n",
       "  <thead>\n",
       "    <tr style=\"text-align: right;\">\n",
       "      <th></th>\n",
       "      <th>id</th>\n",
       "      <th>price</th>\n",
       "      <th>bedrooms</th>\n",
       "      <th>bathrooms</th>\n",
       "      <th>sqft_living</th>\n",
       "      <th>sqft_lot</th>\n",
       "      <th>floors</th>\n",
       "      <th>waterfront</th>\n",
       "      <th>condition</th>\n",
       "      <th>sqft_above</th>\n",
       "      <th>sqft_basement</th>\n",
       "      <th>yr_built</th>\n",
       "      <th>yr_renovated</th>\n",
       "      <th>zipcode</th>\n",
       "      <th>lat</th>\n",
       "      <th>long</th>\n",
       "      <th>sqft_living15</th>\n",
       "      <th>sqft_lot15</th>\n",
       "      <th>month_sale</th>\n",
       "      <th>year_sale</th>\n",
       "      <th>renovation</th>\n",
       "      <th>sector_1</th>\n",
       "      <th>sector_2</th>\n",
       "      <th>sector_3</th>\n",
       "      <th>sector_4</th>\n",
       "      <th>Grade_A</th>\n",
       "      <th>Grade_B</th>\n",
       "      <th>Grade_C</th>\n",
       "      <th>Grade_D</th>\n",
       "      <th>home_age</th>\n",
       "    </tr>\n",
       "  </thead>\n",
       "  <tbody>\n",
       "    <tr>\n",
       "      <td>0</td>\n",
       "      <td>7129300520</td>\n",
       "      <td>221900.0</td>\n",
       "      <td>3</td>\n",
       "      <td>1.00</td>\n",
       "      <td>1180</td>\n",
       "      <td>5650</td>\n",
       "      <td>1.0</td>\n",
       "      <td>0.0</td>\n",
       "      <td>3</td>\n",
       "      <td>1180</td>\n",
       "      <td>0.0</td>\n",
       "      <td>1955</td>\n",
       "      <td>0.0</td>\n",
       "      <td>98178</td>\n",
       "      <td>47.5112</td>\n",
       "      <td>-122.257</td>\n",
       "      <td>1340</td>\n",
       "      <td>5650</td>\n",
       "      <td>10</td>\n",
       "      <td>2014</td>\n",
       "      <td>0</td>\n",
       "      <td>0.0</td>\n",
       "      <td>1.0</td>\n",
       "      <td>0.0</td>\n",
       "      <td>0.0</td>\n",
       "      <td>0.0</td>\n",
       "      <td>1.0</td>\n",
       "      <td>0.0</td>\n",
       "      <td>0.0</td>\n",
       "      <td>65</td>\n",
       "    </tr>\n",
       "    <tr>\n",
       "      <td>1</td>\n",
       "      <td>6414100192</td>\n",
       "      <td>538000.0</td>\n",
       "      <td>3</td>\n",
       "      <td>2.25</td>\n",
       "      <td>2570</td>\n",
       "      <td>7242</td>\n",
       "      <td>2.0</td>\n",
       "      <td>0.0</td>\n",
       "      <td>3</td>\n",
       "      <td>2170</td>\n",
       "      <td>400.0</td>\n",
       "      <td>1951</td>\n",
       "      <td>1991.0</td>\n",
       "      <td>98125</td>\n",
       "      <td>47.7210</td>\n",
       "      <td>-122.319</td>\n",
       "      <td>1690</td>\n",
       "      <td>7639</td>\n",
       "      <td>12</td>\n",
       "      <td>2014</td>\n",
       "      <td>1</td>\n",
       "      <td>1.0</td>\n",
       "      <td>0.0</td>\n",
       "      <td>0.0</td>\n",
       "      <td>0.0</td>\n",
       "      <td>0.0</td>\n",
       "      <td>1.0</td>\n",
       "      <td>0.0</td>\n",
       "      <td>0.0</td>\n",
       "      <td>69</td>\n",
       "    </tr>\n",
       "    <tr>\n",
       "      <td>2</td>\n",
       "      <td>5631500400</td>\n",
       "      <td>180000.0</td>\n",
       "      <td>2</td>\n",
       "      <td>1.00</td>\n",
       "      <td>770</td>\n",
       "      <td>10000</td>\n",
       "      <td>1.0</td>\n",
       "      <td>0.0</td>\n",
       "      <td>3</td>\n",
       "      <td>770</td>\n",
       "      <td>0.0</td>\n",
       "      <td>1933</td>\n",
       "      <td>0.0</td>\n",
       "      <td>98028</td>\n",
       "      <td>47.7379</td>\n",
       "      <td>-122.233</td>\n",
       "      <td>2720</td>\n",
       "      <td>8062</td>\n",
       "      <td>2</td>\n",
       "      <td>2015</td>\n",
       "      <td>0</td>\n",
       "      <td>0.0</td>\n",
       "      <td>1.0</td>\n",
       "      <td>0.0</td>\n",
       "      <td>0.0</td>\n",
       "      <td>0.0</td>\n",
       "      <td>1.0</td>\n",
       "      <td>0.0</td>\n",
       "      <td>0.0</td>\n",
       "      <td>87</td>\n",
       "    </tr>\n",
       "    <tr>\n",
       "      <td>3</td>\n",
       "      <td>2487200875</td>\n",
       "      <td>604000.0</td>\n",
       "      <td>4</td>\n",
       "      <td>3.00</td>\n",
       "      <td>1960</td>\n",
       "      <td>5000</td>\n",
       "      <td>1.0</td>\n",
       "      <td>0.0</td>\n",
       "      <td>5</td>\n",
       "      <td>1050</td>\n",
       "      <td>910.0</td>\n",
       "      <td>1965</td>\n",
       "      <td>0.0</td>\n",
       "      <td>98136</td>\n",
       "      <td>47.5208</td>\n",
       "      <td>-122.393</td>\n",
       "      <td>1360</td>\n",
       "      <td>5000</td>\n",
       "      <td>12</td>\n",
       "      <td>2014</td>\n",
       "      <td>0</td>\n",
       "      <td>1.0</td>\n",
       "      <td>0.0</td>\n",
       "      <td>0.0</td>\n",
       "      <td>0.0</td>\n",
       "      <td>0.0</td>\n",
       "      <td>1.0</td>\n",
       "      <td>0.0</td>\n",
       "      <td>0.0</td>\n",
       "      <td>55</td>\n",
       "    </tr>\n",
       "    <tr>\n",
       "      <td>4</td>\n",
       "      <td>1954400510</td>\n",
       "      <td>510000.0</td>\n",
       "      <td>3</td>\n",
       "      <td>2.00</td>\n",
       "      <td>1680</td>\n",
       "      <td>8080</td>\n",
       "      <td>1.0</td>\n",
       "      <td>0.0</td>\n",
       "      <td>3</td>\n",
       "      <td>1680</td>\n",
       "      <td>0.0</td>\n",
       "      <td>1987</td>\n",
       "      <td>0.0</td>\n",
       "      <td>98074</td>\n",
       "      <td>47.6168</td>\n",
       "      <td>-122.045</td>\n",
       "      <td>1800</td>\n",
       "      <td>7503</td>\n",
       "      <td>2</td>\n",
       "      <td>2015</td>\n",
       "      <td>0</td>\n",
       "      <td>0.0</td>\n",
       "      <td>1.0</td>\n",
       "      <td>0.0</td>\n",
       "      <td>0.0</td>\n",
       "      <td>0.0</td>\n",
       "      <td>1.0</td>\n",
       "      <td>0.0</td>\n",
       "      <td>0.0</td>\n",
       "      <td>33</td>\n",
       "    </tr>\n",
       "  </tbody>\n",
       "</table>\n",
       "</div>"
      ],
      "text/plain": [
       "           id     price  bedrooms  bathrooms  sqft_living  sqft_lot  floors  \\\n",
       "0  7129300520  221900.0         3       1.00         1180      5650     1.0   \n",
       "1  6414100192  538000.0         3       2.25         2570      7242     2.0   \n",
       "2  5631500400  180000.0         2       1.00          770     10000     1.0   \n",
       "3  2487200875  604000.0         4       3.00         1960      5000     1.0   \n",
       "4  1954400510  510000.0         3       2.00         1680      8080     1.0   \n",
       "\n",
       "   waterfront  condition  sqft_above  sqft_basement  yr_built  yr_renovated  \\\n",
       "0         0.0          3        1180            0.0      1955           0.0   \n",
       "1         0.0          3        2170          400.0      1951        1991.0   \n",
       "2         0.0          3         770            0.0      1933           0.0   \n",
       "3         0.0          5        1050          910.0      1965           0.0   \n",
       "4         0.0          3        1680            0.0      1987           0.0   \n",
       "\n",
       "   zipcode      lat     long  sqft_living15  sqft_lot15  month_sale  \\\n",
       "0    98178  47.5112 -122.257           1340        5650          10   \n",
       "1    98125  47.7210 -122.319           1690        7639          12   \n",
       "2    98028  47.7379 -122.233           2720        8062           2   \n",
       "3    98136  47.5208 -122.393           1360        5000          12   \n",
       "4    98074  47.6168 -122.045           1800        7503           2   \n",
       "\n",
       "   year_sale  renovation  sector_1  sector_2  sector_3  sector_4  Grade_A  \\\n",
       "0       2014           0       0.0       1.0       0.0       0.0      0.0   \n",
       "1       2014           1       1.0       0.0       0.0       0.0      0.0   \n",
       "2       2015           0       0.0       1.0       0.0       0.0      0.0   \n",
       "3       2014           0       1.0       0.0       0.0       0.0      0.0   \n",
       "4       2015           0       0.0       1.0       0.0       0.0      0.0   \n",
       "\n",
       "   Grade_B  Grade_C  Grade_D  home_age  \n",
       "0      1.0      0.0      0.0        65  \n",
       "1      1.0      0.0      0.0        69  \n",
       "2      1.0      0.0      0.0        87  \n",
       "3      1.0      0.0      0.0        55  \n",
       "4      1.0      0.0      0.0        33  "
      ]
     },
     "execution_count": 3,
     "metadata": {},
     "output_type": "execute_result"
    }
   ],
   "source": [
    "df3 = pd.read_csv('df3.csv', index_col=0)\n",
    "pd.set_option('display.max_columns', 500) # Allows to display up to 500 columns\n",
    "df3.head()"
   ]
  },
  {
   "cell_type": "markdown",
   "metadata": {},
   "source": [
    "# Question 1"
   ]
  },
  {
   "cell_type": "markdown",
   "metadata": {},
   "source": [
    "The first variable/feature that I want to look at is the sector. Which would be the best sector to invest in with regards to the price per square foot? meaning where will the investors seems to get more for their money?\n",
    "\n",
    "In order to answer this question, I will look at the final dataframe cleaned and filtered by the model. \n",
    "\n",
    "The sectors are data engineered based on the latitude and longitude values given. As it was stated earlier on the other notebooks, it is clear to me that the Zip Codes are controlling the price, but we have decided to simplify this problem and as a first pass solution we are looking at 4 sectors. \n",
    "\n",
    "Before I start with the EDA and further engineering, I just want to remind the readers that the I applied a final filter for the data with a threshold of 1,000,000 Dollar, therefore the number of samples/homes has been reduced but not too significantly."
   ]
  },
  {
   "cell_type": "code",
   "execution_count": 4,
   "metadata": {
    "ExecuteTime": {
     "end_time": "2020-07-24T19:36:27.485365Z",
     "start_time": "2020-07-24T19:36:27.480499Z"
    }
   },
   "outputs": [],
   "source": [
    "dfq1 = df3[['price', 'sqft_living', 'sqft_living15', 'lat', 'long']]"
   ]
  },
  {
   "cell_type": "code",
   "execution_count": 5,
   "metadata": {
    "ExecuteTime": {
     "end_time": "2020-07-24T19:36:27.496046Z",
     "start_time": "2020-07-24T19:36:27.487145Z"
    }
   },
   "outputs": [
    {
     "data": {
      "text/html": [
       "<div>\n",
       "<style scoped>\n",
       "    .dataframe tbody tr th:only-of-type {\n",
       "        vertical-align: middle;\n",
       "    }\n",
       "\n",
       "    .dataframe tbody tr th {\n",
       "        vertical-align: top;\n",
       "    }\n",
       "\n",
       "    .dataframe thead th {\n",
       "        text-align: right;\n",
       "    }\n",
       "</style>\n",
       "<table border=\"1\" class=\"dataframe\">\n",
       "  <thead>\n",
       "    <tr style=\"text-align: right;\">\n",
       "      <th></th>\n",
       "      <th>price</th>\n",
       "      <th>sqft_living</th>\n",
       "      <th>sqft_living15</th>\n",
       "      <th>lat</th>\n",
       "      <th>long</th>\n",
       "    </tr>\n",
       "  </thead>\n",
       "  <tbody>\n",
       "    <tr>\n",
       "      <td>0</td>\n",
       "      <td>221900.0</td>\n",
       "      <td>1180</td>\n",
       "      <td>1340</td>\n",
       "      <td>47.5112</td>\n",
       "      <td>-122.257</td>\n",
       "    </tr>\n",
       "    <tr>\n",
       "      <td>1</td>\n",
       "      <td>538000.0</td>\n",
       "      <td>2570</td>\n",
       "      <td>1690</td>\n",
       "      <td>47.7210</td>\n",
       "      <td>-122.319</td>\n",
       "    </tr>\n",
       "    <tr>\n",
       "      <td>2</td>\n",
       "      <td>180000.0</td>\n",
       "      <td>770</td>\n",
       "      <td>2720</td>\n",
       "      <td>47.7379</td>\n",
       "      <td>-122.233</td>\n",
       "    </tr>\n",
       "    <tr>\n",
       "      <td>3</td>\n",
       "      <td>604000.0</td>\n",
       "      <td>1960</td>\n",
       "      <td>1360</td>\n",
       "      <td>47.5208</td>\n",
       "      <td>-122.393</td>\n",
       "    </tr>\n",
       "    <tr>\n",
       "      <td>4</td>\n",
       "      <td>510000.0</td>\n",
       "      <td>1680</td>\n",
       "      <td>1800</td>\n",
       "      <td>47.6168</td>\n",
       "      <td>-122.045</td>\n",
       "    </tr>\n",
       "  </tbody>\n",
       "</table>\n",
       "</div>"
      ],
      "text/plain": [
       "      price  sqft_living  sqft_living15      lat     long\n",
       "0  221900.0         1180           1340  47.5112 -122.257\n",
       "1  538000.0         2570           1690  47.7210 -122.319\n",
       "2  180000.0          770           2720  47.7379 -122.233\n",
       "3  604000.0         1960           1360  47.5208 -122.393\n",
       "4  510000.0         1680           1800  47.6168 -122.045"
      ]
     },
     "execution_count": 5,
     "metadata": {},
     "output_type": "execute_result"
    }
   ],
   "source": [
    "dfq1.head()"
   ]
  },
  {
   "cell_type": "markdown",
   "metadata": {},
   "source": [
    "## EDA & Engineering "
   ]
  },
  {
   "cell_type": "markdown",
   "metadata": {},
   "source": [
    "below is the sector recreation as it was done on the previous notebook for the modeling. This time it is slightly different. Now I'm putting the sector numbers in a single sector column so that the prices and square footage can be used for groupby."
   ]
  },
  {
   "cell_type": "code",
   "execution_count": 6,
   "metadata": {
    "ExecuteTime": {
     "end_time": "2020-07-24T19:36:27.517221Z",
     "start_time": "2020-07-24T19:36:27.497481Z"
    }
   },
   "outputs": [],
   "source": [
    "dfq1.loc[(dfq1['lat'] >= 47.5 ) & (dfq1['long'] < -122.3), \"sector\"] = 1\n",
    "dfq1.loc[(dfq1['lat'] >= 47.5 ) & (dfq1['long'] > -122.3), \"sector\"] = 2\n",
    "dfq1.loc[(dfq1['lat'] < 47.5 ) & (dfq1['long'] > -122.3), \"sector\"] = 3\n",
    "dfq1.loc[(dfq1['lat'] < 47.5 ) & (dfq1['long'] < -122.3), \"sector\"] = 4"
   ]
  },
  {
   "cell_type": "code",
   "execution_count": 7,
   "metadata": {
    "ExecuteTime": {
     "end_time": "2020-07-24T19:36:27.527307Z",
     "start_time": "2020-07-24T19:36:27.518482Z"
    }
   },
   "outputs": [
    {
     "data": {
      "text/html": [
       "<div>\n",
       "<style scoped>\n",
       "    .dataframe tbody tr th:only-of-type {\n",
       "        vertical-align: middle;\n",
       "    }\n",
       "\n",
       "    .dataframe tbody tr th {\n",
       "        vertical-align: top;\n",
       "    }\n",
       "\n",
       "    .dataframe thead th {\n",
       "        text-align: right;\n",
       "    }\n",
       "</style>\n",
       "<table border=\"1\" class=\"dataframe\">\n",
       "  <thead>\n",
       "    <tr style=\"text-align: right;\">\n",
       "      <th></th>\n",
       "      <th>price</th>\n",
       "      <th>sqft_living</th>\n",
       "      <th>sqft_living15</th>\n",
       "      <th>lat</th>\n",
       "      <th>long</th>\n",
       "      <th>sector</th>\n",
       "    </tr>\n",
       "  </thead>\n",
       "  <tbody>\n",
       "    <tr>\n",
       "      <td>0</td>\n",
       "      <td>221900.0</td>\n",
       "      <td>1180</td>\n",
       "      <td>1340</td>\n",
       "      <td>47.5112</td>\n",
       "      <td>-122.257</td>\n",
       "      <td>2.0</td>\n",
       "    </tr>\n",
       "    <tr>\n",
       "      <td>1</td>\n",
       "      <td>538000.0</td>\n",
       "      <td>2570</td>\n",
       "      <td>1690</td>\n",
       "      <td>47.7210</td>\n",
       "      <td>-122.319</td>\n",
       "      <td>1.0</td>\n",
       "    </tr>\n",
       "    <tr>\n",
       "      <td>2</td>\n",
       "      <td>180000.0</td>\n",
       "      <td>770</td>\n",
       "      <td>2720</td>\n",
       "      <td>47.7379</td>\n",
       "      <td>-122.233</td>\n",
       "      <td>2.0</td>\n",
       "    </tr>\n",
       "    <tr>\n",
       "      <td>3</td>\n",
       "      <td>604000.0</td>\n",
       "      <td>1960</td>\n",
       "      <td>1360</td>\n",
       "      <td>47.5208</td>\n",
       "      <td>-122.393</td>\n",
       "      <td>1.0</td>\n",
       "    </tr>\n",
       "    <tr>\n",
       "      <td>4</td>\n",
       "      <td>510000.0</td>\n",
       "      <td>1680</td>\n",
       "      <td>1800</td>\n",
       "      <td>47.6168</td>\n",
       "      <td>-122.045</td>\n",
       "      <td>2.0</td>\n",
       "    </tr>\n",
       "  </tbody>\n",
       "</table>\n",
       "</div>"
      ],
      "text/plain": [
       "      price  sqft_living  sqft_living15      lat     long  sector\n",
       "0  221900.0         1180           1340  47.5112 -122.257     2.0\n",
       "1  538000.0         2570           1690  47.7210 -122.319     1.0\n",
       "2  180000.0          770           2720  47.7379 -122.233     2.0\n",
       "3  604000.0         1960           1360  47.5208 -122.393     1.0\n",
       "4  510000.0         1680           1800  47.6168 -122.045     2.0"
      ]
     },
     "execution_count": 7,
     "metadata": {},
     "output_type": "execute_result"
    }
   ],
   "source": [
    "dfq1.head()"
   ]
  },
  {
   "cell_type": "code",
   "execution_count": 8,
   "metadata": {
    "ExecuteTime": {
     "end_time": "2020-07-24T19:36:27.535795Z",
     "start_time": "2020-07-24T19:36:27.530110Z"
    }
   },
   "outputs": [
    {
     "data": {
      "text/plain": [
       "2.0    8165\n",
       "1.0    5480\n",
       "3.0    4899\n",
       "4.0    1586\n",
       "Name: sector, dtype: int64"
      ]
     },
     "execution_count": 8,
     "metadata": {},
     "output_type": "execute_result"
    }
   ],
   "source": [
    "dfq1.sector.value_counts()"
   ]
  },
  {
   "cell_type": "markdown",
   "metadata": {},
   "source": [
    "With the sectors created and checked, I will proceed to drop the lat and long columns:"
   ]
  },
  {
   "cell_type": "code",
   "execution_count": 9,
   "metadata": {
    "ExecuteTime": {
     "end_time": "2020-07-24T19:36:27.541228Z",
     "start_time": "2020-07-24T19:36:27.537595Z"
    }
   },
   "outputs": [],
   "source": [
    "dfq1.drop(['lat','long'], axis=1, inplace=True)"
   ]
  },
  {
   "cell_type": "code",
   "execution_count": 10,
   "metadata": {
    "ExecuteTime": {
     "end_time": "2020-07-24T19:36:27.549930Z",
     "start_time": "2020-07-24T19:36:27.542823Z"
    }
   },
   "outputs": [
    {
     "data": {
      "text/html": [
       "<div>\n",
       "<style scoped>\n",
       "    .dataframe tbody tr th:only-of-type {\n",
       "        vertical-align: middle;\n",
       "    }\n",
       "\n",
       "    .dataframe tbody tr th {\n",
       "        vertical-align: top;\n",
       "    }\n",
       "\n",
       "    .dataframe thead th {\n",
       "        text-align: right;\n",
       "    }\n",
       "</style>\n",
       "<table border=\"1\" class=\"dataframe\">\n",
       "  <thead>\n",
       "    <tr style=\"text-align: right;\">\n",
       "      <th></th>\n",
       "      <th>price</th>\n",
       "      <th>sqft_living</th>\n",
       "      <th>sqft_living15</th>\n",
       "      <th>sector</th>\n",
       "    </tr>\n",
       "  </thead>\n",
       "  <tbody>\n",
       "    <tr>\n",
       "      <td>0</td>\n",
       "      <td>221900.0</td>\n",
       "      <td>1180</td>\n",
       "      <td>1340</td>\n",
       "      <td>2.0</td>\n",
       "    </tr>\n",
       "    <tr>\n",
       "      <td>1</td>\n",
       "      <td>538000.0</td>\n",
       "      <td>2570</td>\n",
       "      <td>1690</td>\n",
       "      <td>1.0</td>\n",
       "    </tr>\n",
       "    <tr>\n",
       "      <td>2</td>\n",
       "      <td>180000.0</td>\n",
       "      <td>770</td>\n",
       "      <td>2720</td>\n",
       "      <td>2.0</td>\n",
       "    </tr>\n",
       "    <tr>\n",
       "      <td>3</td>\n",
       "      <td>604000.0</td>\n",
       "      <td>1960</td>\n",
       "      <td>1360</td>\n",
       "      <td>1.0</td>\n",
       "    </tr>\n",
       "    <tr>\n",
       "      <td>4</td>\n",
       "      <td>510000.0</td>\n",
       "      <td>1680</td>\n",
       "      <td>1800</td>\n",
       "      <td>2.0</td>\n",
       "    </tr>\n",
       "  </tbody>\n",
       "</table>\n",
       "</div>"
      ],
      "text/plain": [
       "      price  sqft_living  sqft_living15  sector\n",
       "0  221900.0         1180           1340     2.0\n",
       "1  538000.0         2570           1690     1.0\n",
       "2  180000.0          770           2720     2.0\n",
       "3  604000.0         1960           1360     1.0\n",
       "4  510000.0         1680           1800     2.0"
      ]
     },
     "execution_count": 10,
     "metadata": {},
     "output_type": "execute_result"
    }
   ],
   "source": [
    "dfq1.head()"
   ]
  },
  {
   "cell_type": "markdown",
   "metadata": {},
   "source": [
    "The next step will be to groupby sector and at the same time, calculate the mean of the other columns and round the values to 2 decimals:"
   ]
  },
  {
   "cell_type": "code",
   "execution_count": 11,
   "metadata": {
    "ExecuteTime": {
     "end_time": "2020-07-24T19:36:27.564720Z",
     "start_time": "2020-07-24T19:36:27.551471Z"
    }
   },
   "outputs": [
    {
     "data": {
      "text/html": [
       "<div>\n",
       "<style scoped>\n",
       "    .dataframe tbody tr th:only-of-type {\n",
       "        vertical-align: middle;\n",
       "    }\n",
       "\n",
       "    .dataframe tbody tr th {\n",
       "        vertical-align: top;\n",
       "    }\n",
       "\n",
       "    .dataframe thead th {\n",
       "        text-align: right;\n",
       "    }\n",
       "</style>\n",
       "<table border=\"1\" class=\"dataframe\">\n",
       "  <thead>\n",
       "    <tr style=\"text-align: right;\">\n",
       "      <th></th>\n",
       "      <th>sector</th>\n",
       "      <th>price</th>\n",
       "      <th>sqft_living</th>\n",
       "      <th>sqft_living15</th>\n",
       "    </tr>\n",
       "  </thead>\n",
       "  <tbody>\n",
       "    <tr>\n",
       "      <td>0</td>\n",
       "      <td>1.0</td>\n",
       "      <td>505438.50</td>\n",
       "      <td>1661.59</td>\n",
       "      <td>1581.48</td>\n",
       "    </tr>\n",
       "    <tr>\n",
       "      <td>1</td>\n",
       "      <td>2.0</td>\n",
       "      <td>575834.19</td>\n",
       "      <td>2208.68</td>\n",
       "      <td>2180.60</td>\n",
       "    </tr>\n",
       "    <tr>\n",
       "      <td>2</td>\n",
       "      <td>3.0</td>\n",
       "      <td>331316.47</td>\n",
       "      <td>1981.53</td>\n",
       "      <td>1919.57</td>\n",
       "    </tr>\n",
       "    <tr>\n",
       "      <td>3</td>\n",
       "      <td>4.0</td>\n",
       "      <td>324299.67</td>\n",
       "      <td>1861.76</td>\n",
       "      <td>1805.93</td>\n",
       "    </tr>\n",
       "  </tbody>\n",
       "</table>\n",
       "</div>"
      ],
      "text/plain": [
       "   sector      price  sqft_living  sqft_living15\n",
       "0     1.0  505438.50      1661.59        1581.48\n",
       "1     2.0  575834.19      2208.68        2180.60\n",
       "2     3.0  331316.47      1981.53        1919.57\n",
       "3     4.0  324299.67      1861.76        1805.93"
      ]
     },
     "execution_count": 11,
     "metadata": {},
     "output_type": "execute_result"
    }
   ],
   "source": [
    "dfq1 = dfq1.groupby(['sector']).mean().round(2)\n",
    "dfq1.reset_index(inplace=True)\n",
    "dfq1.head()"
   ]
  },
  {
   "cell_type": "markdown",
   "metadata": {},
   "source": [
    "Now with the square foot average of living (sqft_living) and the average price (price), I will calculate the average price per square foot for each sector:"
   ]
  },
  {
   "cell_type": "code",
   "execution_count": 12,
   "metadata": {
    "ExecuteTime": {
     "end_time": "2020-07-24T19:36:27.577234Z",
     "start_time": "2020-07-24T19:36:27.566080Z"
    }
   },
   "outputs": [
    {
     "data": {
      "text/html": [
       "<div>\n",
       "<style scoped>\n",
       "    .dataframe tbody tr th:only-of-type {\n",
       "        vertical-align: middle;\n",
       "    }\n",
       "\n",
       "    .dataframe tbody tr th {\n",
       "        vertical-align: top;\n",
       "    }\n",
       "\n",
       "    .dataframe thead th {\n",
       "        text-align: right;\n",
       "    }\n",
       "</style>\n",
       "<table border=\"1\" class=\"dataframe\">\n",
       "  <thead>\n",
       "    <tr style=\"text-align: right;\">\n",
       "      <th></th>\n",
       "      <th>sector</th>\n",
       "      <th>price</th>\n",
       "      <th>sqft_living</th>\n",
       "      <th>sqft_living15</th>\n",
       "      <th>sqft_avg_price</th>\n",
       "    </tr>\n",
       "  </thead>\n",
       "  <tbody>\n",
       "    <tr>\n",
       "      <td>0</td>\n",
       "      <td>1.0</td>\n",
       "      <td>505438.50</td>\n",
       "      <td>1661.59</td>\n",
       "      <td>1581.48</td>\n",
       "      <td>304.19</td>\n",
       "    </tr>\n",
       "    <tr>\n",
       "      <td>1</td>\n",
       "      <td>2.0</td>\n",
       "      <td>575834.19</td>\n",
       "      <td>2208.68</td>\n",
       "      <td>2180.60</td>\n",
       "      <td>260.71</td>\n",
       "    </tr>\n",
       "    <tr>\n",
       "      <td>2</td>\n",
       "      <td>3.0</td>\n",
       "      <td>331316.47</td>\n",
       "      <td>1981.53</td>\n",
       "      <td>1919.57</td>\n",
       "      <td>167.20</td>\n",
       "    </tr>\n",
       "    <tr>\n",
       "      <td>3</td>\n",
       "      <td>4.0</td>\n",
       "      <td>324299.67</td>\n",
       "      <td>1861.76</td>\n",
       "      <td>1805.93</td>\n",
       "      <td>174.19</td>\n",
       "    </tr>\n",
       "  </tbody>\n",
       "</table>\n",
       "</div>"
      ],
      "text/plain": [
       "   sector      price  sqft_living  sqft_living15  sqft_avg_price\n",
       "0     1.0  505438.50      1661.59        1581.48          304.19\n",
       "1     2.0  575834.19      2208.68        2180.60          260.71\n",
       "2     3.0  331316.47      1981.53        1919.57          167.20\n",
       "3     4.0  324299.67      1861.76        1805.93          174.19"
      ]
     },
     "execution_count": 12,
     "metadata": {},
     "output_type": "execute_result"
    }
   ],
   "source": [
    "dfq1['sqft_avg_price'] = (dfq1['price']/dfq1['sqft_living']).round(2)\n",
    "dfq1.head()"
   ]
  },
  {
   "cell_type": "markdown",
   "metadata": {},
   "source": [
    "I did some research on the average square footage of homes in Seattle for a Middle Class and came up with 2000 to 3000 for 2019. To simplify our plots I will use the mean of those values, meaning 2500 square feet to give me the average price for houses with that footage."
   ]
  },
  {
   "cell_type": "code",
   "execution_count": 13,
   "metadata": {
    "ExecuteTime": {
     "end_time": "2020-07-24T19:36:27.588082Z",
     "start_time": "2020-07-24T19:36:27.578430Z"
    }
   },
   "outputs": [
    {
     "data": {
      "text/html": [
       "<div>\n",
       "<style scoped>\n",
       "    .dataframe tbody tr th:only-of-type {\n",
       "        vertical-align: middle;\n",
       "    }\n",
       "\n",
       "    .dataframe tbody tr th {\n",
       "        vertical-align: top;\n",
       "    }\n",
       "\n",
       "    .dataframe thead th {\n",
       "        text-align: right;\n",
       "    }\n",
       "</style>\n",
       "<table border=\"1\" class=\"dataframe\">\n",
       "  <thead>\n",
       "    <tr style=\"text-align: right;\">\n",
       "      <th></th>\n",
       "      <th>sector</th>\n",
       "      <th>price</th>\n",
       "      <th>sqft_living</th>\n",
       "      <th>sqft_living15</th>\n",
       "      <th>sqft_avg_price</th>\n",
       "      <th>2500_sqft</th>\n",
       "    </tr>\n",
       "  </thead>\n",
       "  <tbody>\n",
       "    <tr>\n",
       "      <td>0</td>\n",
       "      <td>1.0</td>\n",
       "      <td>505438.50</td>\n",
       "      <td>1661.59</td>\n",
       "      <td>1581.48</td>\n",
       "      <td>304.19</td>\n",
       "      <td>760475.0</td>\n",
       "    </tr>\n",
       "    <tr>\n",
       "      <td>1</td>\n",
       "      <td>2.0</td>\n",
       "      <td>575834.19</td>\n",
       "      <td>2208.68</td>\n",
       "      <td>2180.60</td>\n",
       "      <td>260.71</td>\n",
       "      <td>651775.0</td>\n",
       "    </tr>\n",
       "    <tr>\n",
       "      <td>2</td>\n",
       "      <td>3.0</td>\n",
       "      <td>331316.47</td>\n",
       "      <td>1981.53</td>\n",
       "      <td>1919.57</td>\n",
       "      <td>167.20</td>\n",
       "      <td>418000.0</td>\n",
       "    </tr>\n",
       "    <tr>\n",
       "      <td>3</td>\n",
       "      <td>4.0</td>\n",
       "      <td>324299.67</td>\n",
       "      <td>1861.76</td>\n",
       "      <td>1805.93</td>\n",
       "      <td>174.19</td>\n",
       "      <td>435475.0</td>\n",
       "    </tr>\n",
       "  </tbody>\n",
       "</table>\n",
       "</div>"
      ],
      "text/plain": [
       "   sector      price  sqft_living  sqft_living15  sqft_avg_price  2500_sqft\n",
       "0     1.0  505438.50      1661.59        1581.48          304.19   760475.0\n",
       "1     2.0  575834.19      2208.68        2180.60          260.71   651775.0\n",
       "2     3.0  331316.47      1981.53        1919.57          167.20   418000.0\n",
       "3     4.0  324299.67      1861.76        1805.93          174.19   435475.0"
      ]
     },
     "execution_count": 13,
     "metadata": {},
     "output_type": "execute_result"
    }
   ],
   "source": [
    "dfq1['2500_sqft'] = dfq1['sqft_avg_price']*2500\n",
    "dfq1.head()"
   ]
  },
  {
   "cell_type": "markdown",
   "metadata": {},
   "source": [
    "The plot that I'm about to do with try to illustrate the price peer square foot classified by sectors and the color coding will correspond to the average price"
   ]
  },
  {
   "cell_type": "code",
   "execution_count": 14,
   "metadata": {
    "ExecuteTime": {
     "end_time": "2020-07-24T19:36:27.728732Z",
     "start_time": "2020-07-24T19:36:27.589495Z"
    }
   },
   "outputs": [
    {
     "data": {
      "image/png": "[encoded data removed]",
      "text/plain": [
       "<Figure size 720x432 with 1 Axes>"
      ]
     },
     "metadata": {},
     "output_type": "display_data"
    }
   ],
   "source": [
    "#plt.rcParams[\"axes.labelsize\"] = 20\n",
    "#plt.rcParams[\"axes.titlesize\"] = 20\n",
    "sns.set(font_scale = 2)\n",
    "\n",
    "plt.figure(figsize=(10,6))\n",
    "\n",
    "chart1 = sns.barplot(x='sector', y='sqft_avg_price', data=dfq1, palette=\"cubehelix\")\n",
    "\n",
    "#From here onwards it is all about make up for the plots\n",
    "\n",
    "chart1.set_xticklabels(chart1.get_xticklabels())\n",
    "chart1.set(xlabel='Sector',ylabel='sqft average price', title='Average Price of sqft per sector')\n",
    "chart1.grid(b=True, which='major', axis='y')\n",
    "#plt.legend(bbox_to_anchor=(1.05, 1), loc=2, borderaxespad=0.)\n",
    "\n",
    "plt.show()"
   ]
  },
  {
   "cell_type": "markdown",
   "metadata": {
    "ExecuteTime": {
     "end_time": "2020-07-23T21:25:23.131324Z",
     "start_time": "2020-07-23T21:25:23.093114Z"
    }
   },
   "source": [
    "<b>Observations</b>\n",
    "\n",
    "* Interesting enough Sector 1 has the highest sqft average price when I was expecting this from Sector 2. However by putting a price threshold at 1.0 million dollars, this has filtered out many of the priciest homes and therefore had probably affected the final result. However because the investors are looking not to pass this value range, I will preserve these results. \n",
    "\n",
    "* By looking at the sqft_living average per sector, it is clear how the biggest houses are in the sector 2, where the majority of the homes have a waterfront, but the priciest square foot is on sector 1, probably because the houses are smaller and the prices, even when they decrease\n",
    "\n",
    "* The smallest homes are in sector 4, but for the average middle class the cheapest price is on sector 3. \n",
    "\n",
    "* Based on this plot it seems smarter to invest on sector 1, but lets see at the rest of the analysis to come up with a final and more robust conclusion."
   ]
  },
  {
   "cell_type": "markdown",
   "metadata": {},
   "source": [
    "# Question 2"
   ]
  },
  {
   "cell_type": "markdown",
   "metadata": {},
   "source": [
    "Now I will try to address the number of bedrooms. How many bedrooms should the investors be looking for? and if there is a cutoff value where the price trend changes?"
   ]
  },
  {
   "cell_type": "code",
   "execution_count": 15,
   "metadata": {
    "ExecuteTime": {
     "end_time": "2020-07-24T19:36:27.755901Z",
     "start_time": "2020-07-24T19:36:27.730844Z"
    }
   },
   "outputs": [
    {
     "data": {
      "text/html": [
       "<div>\n",
       "<style scoped>\n",
       "    .dataframe tbody tr th:only-of-type {\n",
       "        vertical-align: middle;\n",
       "    }\n",
       "\n",
       "    .dataframe tbody tr th {\n",
       "        vertical-align: top;\n",
       "    }\n",
       "\n",
       "    .dataframe thead th {\n",
       "        text-align: right;\n",
       "    }\n",
       "</style>\n",
       "<table border=\"1\" class=\"dataframe\">\n",
       "  <thead>\n",
       "    <tr style=\"text-align: right;\">\n",
       "      <th></th>\n",
       "      <th>id</th>\n",
       "      <th>price</th>\n",
       "      <th>bedrooms</th>\n",
       "      <th>bathrooms</th>\n",
       "      <th>sqft_living</th>\n",
       "      <th>sqft_lot</th>\n",
       "      <th>floors</th>\n",
       "      <th>waterfront</th>\n",
       "      <th>condition</th>\n",
       "      <th>sqft_above</th>\n",
       "      <th>sqft_basement</th>\n",
       "      <th>yr_built</th>\n",
       "      <th>yr_renovated</th>\n",
       "      <th>zipcode</th>\n",
       "      <th>lat</th>\n",
       "      <th>long</th>\n",
       "      <th>sqft_living15</th>\n",
       "      <th>sqft_lot15</th>\n",
       "      <th>month_sale</th>\n",
       "      <th>year_sale</th>\n",
       "      <th>renovation</th>\n",
       "      <th>sector_1</th>\n",
       "      <th>sector_2</th>\n",
       "      <th>sector_3</th>\n",
       "      <th>sector_4</th>\n",
       "      <th>Grade_A</th>\n",
       "      <th>Grade_B</th>\n",
       "      <th>Grade_C</th>\n",
       "      <th>Grade_D</th>\n",
       "      <th>home_age</th>\n",
       "    </tr>\n",
       "  </thead>\n",
       "  <tbody>\n",
       "    <tr>\n",
       "      <td>0</td>\n",
       "      <td>7129300520</td>\n",
       "      <td>221900.0</td>\n",
       "      <td>3</td>\n",
       "      <td>1.00</td>\n",
       "      <td>1180</td>\n",
       "      <td>5650</td>\n",
       "      <td>1.0</td>\n",
       "      <td>0.0</td>\n",
       "      <td>3</td>\n",
       "      <td>1180</td>\n",
       "      <td>0.0</td>\n",
       "      <td>1955</td>\n",
       "      <td>0.0</td>\n",
       "      <td>98178</td>\n",
       "      <td>47.5112</td>\n",
       "      <td>-122.257</td>\n",
       "      <td>1340</td>\n",
       "      <td>5650</td>\n",
       "      <td>10</td>\n",
       "      <td>2014</td>\n",
       "      <td>0</td>\n",
       "      <td>0.0</td>\n",
       "      <td>1.0</td>\n",
       "      <td>0.0</td>\n",
       "      <td>0.0</td>\n",
       "      <td>0.0</td>\n",
       "      <td>1.0</td>\n",
       "      <td>0.0</td>\n",
       "      <td>0.0</td>\n",
       "      <td>65</td>\n",
       "    </tr>\n",
       "    <tr>\n",
       "      <td>1</td>\n",
       "      <td>6414100192</td>\n",
       "      <td>538000.0</td>\n",
       "      <td>3</td>\n",
       "      <td>2.25</td>\n",
       "      <td>2570</td>\n",
       "      <td>7242</td>\n",
       "      <td>2.0</td>\n",
       "      <td>0.0</td>\n",
       "      <td>3</td>\n",
       "      <td>2170</td>\n",
       "      <td>400.0</td>\n",
       "      <td>1951</td>\n",
       "      <td>1991.0</td>\n",
       "      <td>98125</td>\n",
       "      <td>47.7210</td>\n",
       "      <td>-122.319</td>\n",
       "      <td>1690</td>\n",
       "      <td>7639</td>\n",
       "      <td>12</td>\n",
       "      <td>2014</td>\n",
       "      <td>1</td>\n",
       "      <td>1.0</td>\n",
       "      <td>0.0</td>\n",
       "      <td>0.0</td>\n",
       "      <td>0.0</td>\n",
       "      <td>0.0</td>\n",
       "      <td>1.0</td>\n",
       "      <td>0.0</td>\n",
       "      <td>0.0</td>\n",
       "      <td>69</td>\n",
       "    </tr>\n",
       "    <tr>\n",
       "      <td>2</td>\n",
       "      <td>5631500400</td>\n",
       "      <td>180000.0</td>\n",
       "      <td>2</td>\n",
       "      <td>1.00</td>\n",
       "      <td>770</td>\n",
       "      <td>10000</td>\n",
       "      <td>1.0</td>\n",
       "      <td>0.0</td>\n",
       "      <td>3</td>\n",
       "      <td>770</td>\n",
       "      <td>0.0</td>\n",
       "      <td>1933</td>\n",
       "      <td>0.0</td>\n",
       "      <td>98028</td>\n",
       "      <td>47.7379</td>\n",
       "      <td>-122.233</td>\n",
       "      <td>2720</td>\n",
       "      <td>8062</td>\n",
       "      <td>2</td>\n",
       "      <td>2015</td>\n",
       "      <td>0</td>\n",
       "      <td>0.0</td>\n",
       "      <td>1.0</td>\n",
       "      <td>0.0</td>\n",
       "      <td>0.0</td>\n",
       "      <td>0.0</td>\n",
       "      <td>1.0</td>\n",
       "      <td>0.0</td>\n",
       "      <td>0.0</td>\n",
       "      <td>87</td>\n",
       "    </tr>\n",
       "    <tr>\n",
       "      <td>3</td>\n",
       "      <td>2487200875</td>\n",
       "      <td>604000.0</td>\n",
       "      <td>4</td>\n",
       "      <td>3.00</td>\n",
       "      <td>1960</td>\n",
       "      <td>5000</td>\n",
       "      <td>1.0</td>\n",
       "      <td>0.0</td>\n",
       "      <td>5</td>\n",
       "      <td>1050</td>\n",
       "      <td>910.0</td>\n",
       "      <td>1965</td>\n",
       "      <td>0.0</td>\n",
       "      <td>98136</td>\n",
       "      <td>47.5208</td>\n",
       "      <td>-122.393</td>\n",
       "      <td>1360</td>\n",
       "      <td>5000</td>\n",
       "      <td>12</td>\n",
       "      <td>2014</td>\n",
       "      <td>0</td>\n",
       "      <td>1.0</td>\n",
       "      <td>0.0</td>\n",
       "      <td>0.0</td>\n",
       "      <td>0.0</td>\n",
       "      <td>0.0</td>\n",
       "      <td>1.0</td>\n",
       "      <td>0.0</td>\n",
       "      <td>0.0</td>\n",
       "      <td>55</td>\n",
       "    </tr>\n",
       "    <tr>\n",
       "      <td>4</td>\n",
       "      <td>1954400510</td>\n",
       "      <td>510000.0</td>\n",
       "      <td>3</td>\n",
       "      <td>2.00</td>\n",
       "      <td>1680</td>\n",
       "      <td>8080</td>\n",
       "      <td>1.0</td>\n",
       "      <td>0.0</td>\n",
       "      <td>3</td>\n",
       "      <td>1680</td>\n",
       "      <td>0.0</td>\n",
       "      <td>1987</td>\n",
       "      <td>0.0</td>\n",
       "      <td>98074</td>\n",
       "      <td>47.6168</td>\n",
       "      <td>-122.045</td>\n",
       "      <td>1800</td>\n",
       "      <td>7503</td>\n",
       "      <td>2</td>\n",
       "      <td>2015</td>\n",
       "      <td>0</td>\n",
       "      <td>0.0</td>\n",
       "      <td>1.0</td>\n",
       "      <td>0.0</td>\n",
       "      <td>0.0</td>\n",
       "      <td>0.0</td>\n",
       "      <td>1.0</td>\n",
       "      <td>0.0</td>\n",
       "      <td>0.0</td>\n",
       "      <td>33</td>\n",
       "    </tr>\n",
       "  </tbody>\n",
       "</table>\n",
       "</div>"
      ],
      "text/plain": [
       "           id     price  bedrooms  bathrooms  sqft_living  sqft_lot  floors  \\\n",
       "0  7129300520  221900.0         3       1.00         1180      5650     1.0   \n",
       "1  6414100192  538000.0         3       2.25         2570      7242     2.0   \n",
       "2  5631500400  180000.0         2       1.00          770     10000     1.0   \n",
       "3  2487200875  604000.0         4       3.00         1960      5000     1.0   \n",
       "4  1954400510  510000.0         3       2.00         1680      8080     1.0   \n",
       "\n",
       "   waterfront  condition  sqft_above  sqft_basement  yr_built  yr_renovated  \\\n",
       "0         0.0          3        1180            0.0      1955           0.0   \n",
       "1         0.0          3        2170          400.0      1951        1991.0   \n",
       "2         0.0          3         770            0.0      1933           0.0   \n",
       "3         0.0          5        1050          910.0      1965           0.0   \n",
       "4         0.0          3        1680            0.0      1987           0.0   \n",
       "\n",
       "   zipcode      lat     long  sqft_living15  sqft_lot15  month_sale  \\\n",
       "0    98178  47.5112 -122.257           1340        5650          10   \n",
       "1    98125  47.7210 -122.319           1690        7639          12   \n",
       "2    98028  47.7379 -122.233           2720        8062           2   \n",
       "3    98136  47.5208 -122.393           1360        5000          12   \n",
       "4    98074  47.6168 -122.045           1800        7503           2   \n",
       "\n",
       "   year_sale  renovation  sector_1  sector_2  sector_3  sector_4  Grade_A  \\\n",
       "0       2014           0       0.0       1.0       0.0       0.0      0.0   \n",
       "1       2014           1       1.0       0.0       0.0       0.0      0.0   \n",
       "2       2015           0       0.0       1.0       0.0       0.0      0.0   \n",
       "3       2014           0       1.0       0.0       0.0       0.0      0.0   \n",
       "4       2015           0       0.0       1.0       0.0       0.0      0.0   \n",
       "\n",
       "   Grade_B  Grade_C  Grade_D  home_age  \n",
       "0      1.0      0.0      0.0        65  \n",
       "1      1.0      0.0      0.0        69  \n",
       "2      1.0      0.0      0.0        87  \n",
       "3      1.0      0.0      0.0        55  \n",
       "4      1.0      0.0      0.0        33  "
      ]
     },
     "execution_count": 15,
     "metadata": {},
     "output_type": "execute_result"
    }
   ],
   "source": [
    "df3.head()"
   ]
  },
  {
   "cell_type": "markdown",
   "metadata": {},
   "source": [
    "## EDA & Engineering "
   ]
  },
  {
   "cell_type": "markdown",
   "metadata": {},
   "source": [
    "I will have to do a bit more data engineering to come up with a new dataframe that has the average price related to the number of bedrooms per sectors. This won't be hard though as the data has been all cleaned, so a simple group by would do the trick\n",
    "\n",
    "In order to be able to make a proper recommendation in terms of bedrooms, even when the investors are looking for a limited money range, I will need to look at both, the entire cleaned dataframe, and the cropped at 1 million dollars one. This way I will still be able to identify any possible trends per sector. \n",
    "\n",
    "First I will create a smaller dataframe from the originally cleaned df3 and re-create the sectors:"
   ]
  },
  {
   "cell_type": "code",
   "execution_count": 16,
   "metadata": {
    "ExecuteTime": {
     "end_time": "2020-07-24T19:36:27.761174Z",
     "start_time": "2020-07-24T19:36:27.757293Z"
    }
   },
   "outputs": [],
   "source": [
    "dfq2 = df3[['price', 'bedrooms', 'lat', 'long']]"
   ]
  },
  {
   "cell_type": "code",
   "execution_count": 17,
   "metadata": {
    "ExecuteTime": {
     "end_time": "2020-07-24T19:36:27.780589Z",
     "start_time": "2020-07-24T19:36:27.762715Z"
    }
   },
   "outputs": [],
   "source": [
    "dfq2.loc[(dfq2['lat'] >= 47.5 ) & (dfq2['long'] < -122.3), \"sector\"] = 1\n",
    "dfq2.loc[(dfq2['lat'] >= 47.5 ) & (dfq2['long'] > -122.3), \"sector\"] = 2\n",
    "dfq2.loc[(dfq2['lat'] < 47.5 ) & (dfq2['long'] > -122.3), \"sector\"] = 3\n",
    "dfq2.loc[(dfq2['lat'] < 47.5 ) & (dfq2['long'] < -122.3), \"sector\"] = 4"
   ]
  },
  {
   "cell_type": "code",
   "execution_count": 18,
   "metadata": {
    "ExecuteTime": {
     "end_time": "2020-07-24T19:36:27.789270Z",
     "start_time": "2020-07-24T19:36:27.781836Z"
    }
   },
   "outputs": [
    {
     "data": {
      "text/html": [
       "<div>\n",
       "<style scoped>\n",
       "    .dataframe tbody tr th:only-of-type {\n",
       "        vertical-align: middle;\n",
       "    }\n",
       "\n",
       "    .dataframe tbody tr th {\n",
       "        vertical-align: top;\n",
       "    }\n",
       "\n",
       "    .dataframe thead th {\n",
       "        text-align: right;\n",
       "    }\n",
       "</style>\n",
       "<table border=\"1\" class=\"dataframe\">\n",
       "  <thead>\n",
       "    <tr style=\"text-align: right;\">\n",
       "      <th></th>\n",
       "      <th>price</th>\n",
       "      <th>bedrooms</th>\n",
       "      <th>lat</th>\n",
       "      <th>long</th>\n",
       "      <th>sector</th>\n",
       "    </tr>\n",
       "  </thead>\n",
       "  <tbody>\n",
       "    <tr>\n",
       "      <td>0</td>\n",
       "      <td>221900.0</td>\n",
       "      <td>3</td>\n",
       "      <td>47.5112</td>\n",
       "      <td>-122.257</td>\n",
       "      <td>2.0</td>\n",
       "    </tr>\n",
       "    <tr>\n",
       "      <td>1</td>\n",
       "      <td>538000.0</td>\n",
       "      <td>3</td>\n",
       "      <td>47.7210</td>\n",
       "      <td>-122.319</td>\n",
       "      <td>1.0</td>\n",
       "    </tr>\n",
       "    <tr>\n",
       "      <td>2</td>\n",
       "      <td>180000.0</td>\n",
       "      <td>2</td>\n",
       "      <td>47.7379</td>\n",
       "      <td>-122.233</td>\n",
       "      <td>2.0</td>\n",
       "    </tr>\n",
       "    <tr>\n",
       "      <td>3</td>\n",
       "      <td>604000.0</td>\n",
       "      <td>4</td>\n",
       "      <td>47.5208</td>\n",
       "      <td>-122.393</td>\n",
       "      <td>1.0</td>\n",
       "    </tr>\n",
       "    <tr>\n",
       "      <td>4</td>\n",
       "      <td>510000.0</td>\n",
       "      <td>3</td>\n",
       "      <td>47.6168</td>\n",
       "      <td>-122.045</td>\n",
       "      <td>2.0</td>\n",
       "    </tr>\n",
       "  </tbody>\n",
       "</table>\n",
       "</div>"
      ],
      "text/plain": [
       "      price  bedrooms      lat     long  sector\n",
       "0  221900.0         3  47.5112 -122.257     2.0\n",
       "1  538000.0         3  47.7210 -122.319     1.0\n",
       "2  180000.0         2  47.7379 -122.233     2.0\n",
       "3  604000.0         4  47.5208 -122.393     1.0\n",
       "4  510000.0         3  47.6168 -122.045     2.0"
      ]
     },
     "execution_count": 18,
     "metadata": {},
     "output_type": "execute_result"
    }
   ],
   "source": [
    "# Quick check to QC the dfq2:\n",
    "\n",
    "dfq2.head()"
   ]
  },
  {
   "cell_type": "code",
   "execution_count": 19,
   "metadata": {
    "ExecuteTime": {
     "end_time": "2020-07-24T19:36:27.793760Z",
     "start_time": "2020-07-24T19:36:27.790709Z"
    }
   },
   "outputs": [
    {
     "data": {
      "text/plain": [
       "(20240, 5)"
      ]
     },
     "execution_count": 19,
     "metadata": {},
     "output_type": "execute_result"
    }
   ],
   "source": [
    "dfq2.shape"
   ]
  },
  {
   "cell_type": "markdown",
   "metadata": {},
   "source": [
    "I will now proceed once again to drop the 'lat' and 'long' columns:"
   ]
  },
  {
   "cell_type": "code",
   "execution_count": 20,
   "metadata": {
    "ExecuteTime": {
     "end_time": "2020-07-24T19:36:27.798450Z",
     "start_time": "2020-07-24T19:36:27.795114Z"
    }
   },
   "outputs": [],
   "source": [
    "dfq2.drop(['lat', 'long'], axis=1, inplace=True)"
   ]
  },
  {
   "cell_type": "code",
   "execution_count": 21,
   "metadata": {
    "ExecuteTime": {
     "end_time": "2020-07-24T19:36:27.812208Z",
     "start_time": "2020-07-24T19:36:27.799972Z"
    },
    "scrolled": true
   },
   "outputs": [
    {
     "data": {
      "text/html": [
       "<div>\n",
       "<style scoped>\n",
       "    .dataframe tbody tr th:only-of-type {\n",
       "        vertical-align: middle;\n",
       "    }\n",
       "\n",
       "    .dataframe tbody tr th {\n",
       "        vertical-align: top;\n",
       "    }\n",
       "\n",
       "    .dataframe thead th {\n",
       "        text-align: right;\n",
       "    }\n",
       "</style>\n",
       "<table border=\"1\" class=\"dataframe\">\n",
       "  <thead>\n",
       "    <tr style=\"text-align: right;\">\n",
       "      <th></th>\n",
       "      <th>bedrooms</th>\n",
       "      <th>sector</th>\n",
       "      <th>price</th>\n",
       "    </tr>\n",
       "  </thead>\n",
       "  <tbody>\n",
       "    <tr>\n",
       "      <td>0</td>\n",
       "      <td>1</td>\n",
       "      <td>1.0</td>\n",
       "      <td>332611.37</td>\n",
       "    </tr>\n",
       "    <tr>\n",
       "      <td>1</td>\n",
       "      <td>1</td>\n",
       "      <td>2.0</td>\n",
       "      <td>343144.68</td>\n",
       "    </tr>\n",
       "    <tr>\n",
       "      <td>2</td>\n",
       "      <td>1</td>\n",
       "      <td>3.0</td>\n",
       "      <td>233585.93</td>\n",
       "    </tr>\n",
       "    <tr>\n",
       "      <td>3</td>\n",
       "      <td>1</td>\n",
       "      <td>4.0</td>\n",
       "      <td>292837.50</td>\n",
       "    </tr>\n",
       "    <tr>\n",
       "      <td>4</td>\n",
       "      <td>2</td>\n",
       "      <td>1.0</td>\n",
       "      <td>422749.88</td>\n",
       "    </tr>\n",
       "  </tbody>\n",
       "</table>\n",
       "</div>"
      ],
      "text/plain": [
       "   bedrooms  sector      price\n",
       "0         1     1.0  332611.37\n",
       "1         1     2.0  343144.68\n",
       "2         1     3.0  233585.93\n",
       "3         1     4.0  292837.50\n",
       "4         2     1.0  422749.88"
      ]
     },
     "execution_count": 21,
     "metadata": {},
     "output_type": "execute_result"
    }
   ],
   "source": [
    "dfq2 = dfq2.groupby(['bedrooms', 'sector']).mean().round(2)\n",
    "dfq2.reset_index(inplace=True)\n",
    "dfq2.head()"
   ]
  },
  {
   "cell_type": "code",
   "execution_count": 22,
   "metadata": {
    "ExecuteTime": {
     "end_time": "2020-07-24T19:36:27.816381Z",
     "start_time": "2020-07-24T19:36:27.813461Z"
    }
   },
   "outputs": [
    {
     "data": {
      "text/plain": [
       "(35, 3)"
      ]
     },
     "execution_count": 22,
     "metadata": {},
     "output_type": "execute_result"
    }
   ],
   "source": [
    "dfq2.shape"
   ]
  },
  {
   "cell_type": "code",
   "execution_count": 23,
   "metadata": {
    "ExecuteTime": {
     "end_time": "2020-07-24T19:36:27.824878Z",
     "start_time": "2020-07-24T19:36:27.820057Z"
    }
   },
   "outputs": [
    {
     "data": {
      "text/plain": [
       "7     4\n",
       "6     4\n",
       "5     4\n",
       "4     4\n",
       "3     4\n",
       "2     4\n",
       "1     4\n",
       "8     3\n",
       "10    2\n",
       "11    1\n",
       "9     1\n",
       "Name: bedrooms, dtype: int64"
      ]
     },
     "execution_count": 23,
     "metadata": {},
     "output_type": "execute_result"
    }
   ],
   "source": [
    "dfq2.bedrooms.value_counts()"
   ]
  },
  {
   "cell_type": "code",
   "execution_count": 24,
   "metadata": {
    "ExecuteTime": {
     "end_time": "2020-07-24T19:36:27.830247Z",
     "start_time": "2020-07-24T19:36:27.827159Z"
    }
   },
   "outputs": [
    {
     "data": {
      "text/plain": [
       "(35, 3)"
      ]
     },
     "execution_count": 24,
     "metadata": {},
     "output_type": "execute_result"
    }
   ],
   "source": [
    "dfq2.shape"
   ]
  },
  {
   "cell_type": "code",
   "execution_count": 25,
   "metadata": {
    "ExecuteTime": {
     "end_time": "2020-07-24T19:36:27.833493Z",
     "start_time": "2020-07-24T19:36:27.831639Z"
    },
    "scrolled": true
   },
   "outputs": [],
   "source": [
    "# dfq2.head(50)\n",
    "# I commented this line because of the number of rows. Feel free to uncomment to qc them"
   ]
  },
  {
   "cell_type": "markdown",
   "metadata": {},
   "source": [
    "Now with the cleaned new dfq2 I will proceed to sdo the first plot with the data cropped at 1 million dollars:"
   ]
  },
  {
   "cell_type": "code",
   "execution_count": 26,
   "metadata": {
    "ExecuteTime": {
     "end_time": "2020-07-24T19:36:28.170672Z",
     "start_time": "2020-07-24T19:36:27.834849Z"
    }
   },
   "outputs": [
    {
     "data": {
      "image/png": "[encoded data removed]",
      "text/plain": [
       "<Figure size 1872x576 with 1 Axes>"
      ]
     },
     "metadata": {},
     "output_type": "display_data"
    }
   ],
   "source": [
    "#plt.rcParams[\"axes.labelsize\"] = 20\n",
    "#plt.rcParams[\"axes.titlesize\"] = 20\n",
    "sns.set(font_scale = 2)\n",
    "\n",
    "plt.figure(figsize=(26,8))\n",
    "sns.barplot(x='sector', y='price', data=dfq2, hue='bedrooms', palette=\"cubehelix\")\n",
    "plt.legend(bbox_to_anchor=(1.05, 1), loc=2, borderaxespad=0.)\n",
    "plt.title('Avg Price per Number of Bedrooms by Sector')\n",
    "plt.xlabel('Sector Number')\n",
    "plt.ylabel('Avg Price/Number of bedroom')\n",
    "plt.show()"
   ]
  },
  {
   "cell_type": "markdown",
   "metadata": {},
   "source": [
    "Now I will need to load the cleaned data without the 1 million Dollar threshold and do the same exercise in order to convert it to an equivalent dataframe. Once this is done, I will proceed to make the same plot. Keep in mind that the labels on the y axis won't be the same as the data range will have increased even when we are looking at averages"
   ]
  },
  {
   "cell_type": "code",
   "execution_count": 27,
   "metadata": {
    "ExecuteTime": {
     "end_time": "2020-07-24T19:36:28.247117Z",
     "start_time": "2020-07-24T19:36:28.172242Z"
    }
   },
   "outputs": [],
   "source": [
    "dfq2_ad = pd.read_csv('df_cleaned_alldata.csv', index_col=0)"
   ]
  },
  {
   "cell_type": "code",
   "execution_count": 28,
   "metadata": {
    "ExecuteTime": {
     "end_time": "2020-07-24T19:36:28.270615Z",
     "start_time": "2020-07-24T19:36:28.248388Z"
    },
    "scrolled": true
   },
   "outputs": [
    {
     "data": {
      "text/html": [
       "<div>\n",
       "<style scoped>\n",
       "    .dataframe tbody tr th:only-of-type {\n",
       "        vertical-align: middle;\n",
       "    }\n",
       "\n",
       "    .dataframe tbody tr th {\n",
       "        vertical-align: top;\n",
       "    }\n",
       "\n",
       "    .dataframe thead th {\n",
       "        text-align: right;\n",
       "    }\n",
       "</style>\n",
       "<table border=\"1\" class=\"dataframe\">\n",
       "  <thead>\n",
       "    <tr style=\"text-align: right;\">\n",
       "      <th></th>\n",
       "      <th>id</th>\n",
       "      <th>date</th>\n",
       "      <th>price</th>\n",
       "      <th>bedrooms</th>\n",
       "      <th>bathrooms</th>\n",
       "      <th>sqft_living</th>\n",
       "      <th>sqft_lot</th>\n",
       "      <th>floors</th>\n",
       "      <th>waterfront</th>\n",
       "      <th>condition</th>\n",
       "      <th>grade</th>\n",
       "      <th>sqft_above</th>\n",
       "      <th>sqft_basement</th>\n",
       "      <th>yr_built</th>\n",
       "      <th>yr_renovated</th>\n",
       "      <th>zipcode</th>\n",
       "      <th>lat</th>\n",
       "      <th>long</th>\n",
       "      <th>sqft_living15</th>\n",
       "      <th>sqft_lot15</th>\n",
       "      <th>month_sale</th>\n",
       "      <th>year_sale</th>\n",
       "      <th>renovation</th>\n",
       "      <th>sector_1</th>\n",
       "      <th>sector_2</th>\n",
       "      <th>sector_3</th>\n",
       "      <th>sector_4</th>\n",
       "      <th>Grade_A</th>\n",
       "      <th>Grade_B</th>\n",
       "      <th>Grade_C</th>\n",
       "      <th>Grade_D</th>\n",
       "      <th>home_age</th>\n",
       "    </tr>\n",
       "  </thead>\n",
       "  <tbody>\n",
       "    <tr>\n",
       "      <td>0</td>\n",
       "      <td>7129300520</td>\n",
       "      <td>2014-10-13</td>\n",
       "      <td>221900.0</td>\n",
       "      <td>3</td>\n",
       "      <td>1.00</td>\n",
       "      <td>1180</td>\n",
       "      <td>5650</td>\n",
       "      <td>1.0</td>\n",
       "      <td>0.0</td>\n",
       "      <td>3</td>\n",
       "      <td>7</td>\n",
       "      <td>1180</td>\n",
       "      <td>0.0</td>\n",
       "      <td>1955</td>\n",
       "      <td>0.0</td>\n",
       "      <td>98178</td>\n",
       "      <td>47.5112</td>\n",
       "      <td>-122.257</td>\n",
       "      <td>1340</td>\n",
       "      <td>5650</td>\n",
       "      <td>10</td>\n",
       "      <td>2014</td>\n",
       "      <td>0</td>\n",
       "      <td>0.0</td>\n",
       "      <td>1.0</td>\n",
       "      <td>0.0</td>\n",
       "      <td>0.0</td>\n",
       "      <td>0.0</td>\n",
       "      <td>1.0</td>\n",
       "      <td>0.0</td>\n",
       "      <td>0.0</td>\n",
       "      <td>65</td>\n",
       "    </tr>\n",
       "    <tr>\n",
       "      <td>1</td>\n",
       "      <td>6414100192</td>\n",
       "      <td>2014-12-09</td>\n",
       "      <td>538000.0</td>\n",
       "      <td>3</td>\n",
       "      <td>2.25</td>\n",
       "      <td>2570</td>\n",
       "      <td>7242</td>\n",
       "      <td>2.0</td>\n",
       "      <td>0.0</td>\n",
       "      <td>3</td>\n",
       "      <td>7</td>\n",
       "      <td>2170</td>\n",
       "      <td>400.0</td>\n",
       "      <td>1951</td>\n",
       "      <td>1991.0</td>\n",
       "      <td>98125</td>\n",
       "      <td>47.7210</td>\n",
       "      <td>-122.319</td>\n",
       "      <td>1690</td>\n",
       "      <td>7639</td>\n",
       "      <td>12</td>\n",
       "      <td>2014</td>\n",
       "      <td>1</td>\n",
       "      <td>1.0</td>\n",
       "      <td>0.0</td>\n",
       "      <td>0.0</td>\n",
       "      <td>0.0</td>\n",
       "      <td>0.0</td>\n",
       "      <td>1.0</td>\n",
       "      <td>0.0</td>\n",
       "      <td>0.0</td>\n",
       "      <td>69</td>\n",
       "    </tr>\n",
       "    <tr>\n",
       "      <td>2</td>\n",
       "      <td>5631500400</td>\n",
       "      <td>2015-02-25</td>\n",
       "      <td>180000.0</td>\n",
       "      <td>2</td>\n",
       "      <td>1.00</td>\n",
       "      <td>770</td>\n",
       "      <td>10000</td>\n",
       "      <td>1.0</td>\n",
       "      <td>0.0</td>\n",
       "      <td>3</td>\n",
       "      <td>6</td>\n",
       "      <td>770</td>\n",
       "      <td>0.0</td>\n",
       "      <td>1933</td>\n",
       "      <td>0.0</td>\n",
       "      <td>98028</td>\n",
       "      <td>47.7379</td>\n",
       "      <td>-122.233</td>\n",
       "      <td>2720</td>\n",
       "      <td>8062</td>\n",
       "      <td>2</td>\n",
       "      <td>2015</td>\n",
       "      <td>0</td>\n",
       "      <td>0.0</td>\n",
       "      <td>1.0</td>\n",
       "      <td>0.0</td>\n",
       "      <td>0.0</td>\n",
       "      <td>0.0</td>\n",
       "      <td>1.0</td>\n",
       "      <td>0.0</td>\n",
       "      <td>0.0</td>\n",
       "      <td>87</td>\n",
       "    </tr>\n",
       "    <tr>\n",
       "      <td>3</td>\n",
       "      <td>2487200875</td>\n",
       "      <td>2014-12-09</td>\n",
       "      <td>604000.0</td>\n",
       "      <td>4</td>\n",
       "      <td>3.00</td>\n",
       "      <td>1960</td>\n",
       "      <td>5000</td>\n",
       "      <td>1.0</td>\n",
       "      <td>0.0</td>\n",
       "      <td>5</td>\n",
       "      <td>7</td>\n",
       "      <td>1050</td>\n",
       "      <td>910.0</td>\n",
       "      <td>1965</td>\n",
       "      <td>0.0</td>\n",
       "      <td>98136</td>\n",
       "      <td>47.5208</td>\n",
       "      <td>-122.393</td>\n",
       "      <td>1360</td>\n",
       "      <td>5000</td>\n",
       "      <td>12</td>\n",
       "      <td>2014</td>\n",
       "      <td>0</td>\n",
       "      <td>1.0</td>\n",
       "      <td>0.0</td>\n",
       "      <td>0.0</td>\n",
       "      <td>0.0</td>\n",
       "      <td>0.0</td>\n",
       "      <td>1.0</td>\n",
       "      <td>0.0</td>\n",
       "      <td>0.0</td>\n",
       "      <td>55</td>\n",
       "    </tr>\n",
       "    <tr>\n",
       "      <td>4</td>\n",
       "      <td>1954400510</td>\n",
       "      <td>2015-02-18</td>\n",
       "      <td>510000.0</td>\n",
       "      <td>3</td>\n",
       "      <td>2.00</td>\n",
       "      <td>1680</td>\n",
       "      <td>8080</td>\n",
       "      <td>1.0</td>\n",
       "      <td>0.0</td>\n",
       "      <td>3</td>\n",
       "      <td>8</td>\n",
       "      <td>1680</td>\n",
       "      <td>0.0</td>\n",
       "      <td>1987</td>\n",
       "      <td>0.0</td>\n",
       "      <td>98074</td>\n",
       "      <td>47.6168</td>\n",
       "      <td>-122.045</td>\n",
       "      <td>1800</td>\n",
       "      <td>7503</td>\n",
       "      <td>2</td>\n",
       "      <td>2015</td>\n",
       "      <td>0</td>\n",
       "      <td>0.0</td>\n",
       "      <td>1.0</td>\n",
       "      <td>0.0</td>\n",
       "      <td>0.0</td>\n",
       "      <td>0.0</td>\n",
       "      <td>1.0</td>\n",
       "      <td>0.0</td>\n",
       "      <td>0.0</td>\n",
       "      <td>33</td>\n",
       "    </tr>\n",
       "  </tbody>\n",
       "</table>\n",
       "</div>"
      ],
      "text/plain": [
       "           id        date     price  bedrooms  bathrooms  sqft_living  \\\n",
       "0  7129300520  2014-10-13  221900.0         3       1.00         1180   \n",
       "1  6414100192  2014-12-09  538000.0         3       2.25         2570   \n",
       "2  5631500400  2015-02-25  180000.0         2       1.00          770   \n",
       "3  2487200875  2014-12-09  604000.0         4       3.00         1960   \n",
       "4  1954400510  2015-02-18  510000.0         3       2.00         1680   \n",
       "\n",
       "   sqft_lot  floors  waterfront  condition  grade  sqft_above  sqft_basement  \\\n",
       "0      5650     1.0         0.0          3      7        1180            0.0   \n",
       "1      7242     2.0         0.0          3      7        2170          400.0   \n",
       "2     10000     1.0         0.0          3      6         770            0.0   \n",
       "3      5000     1.0         0.0          5      7        1050          910.0   \n",
       "4      8080     1.0         0.0          3      8        1680            0.0   \n",
       "\n",
       "   yr_built  yr_renovated  zipcode      lat     long  sqft_living15  \\\n",
       "0      1955           0.0    98178  47.5112 -122.257           1340   \n",
       "1      1951        1991.0    98125  47.7210 -122.319           1690   \n",
       "2      1933           0.0    98028  47.7379 -122.233           2720   \n",
       "3      1965           0.0    98136  47.5208 -122.393           1360   \n",
       "4      1987           0.0    98074  47.6168 -122.045           1800   \n",
       "\n",
       "   sqft_lot15  month_sale  year_sale  renovation  sector_1  sector_2  \\\n",
       "0        5650          10       2014           0       0.0       1.0   \n",
       "1        7639          12       2014           1       1.0       0.0   \n",
       "2        8062           2       2015           0       0.0       1.0   \n",
       "3        5000          12       2014           0       1.0       0.0   \n",
       "4        7503           2       2015           0       0.0       1.0   \n",
       "\n",
       "   sector_3  sector_4  Grade_A  Grade_B  Grade_C  Grade_D  home_age  \n",
       "0       0.0       0.0      0.0      1.0      0.0      0.0        65  \n",
       "1       0.0       0.0      0.0      1.0      0.0      0.0        69  \n",
       "2       0.0       0.0      0.0      1.0      0.0      0.0        87  \n",
       "3       0.0       0.0      0.0      1.0      0.0      0.0        55  \n",
       "4       0.0       0.0      0.0      1.0      0.0      0.0        33  "
      ]
     },
     "execution_count": 28,
     "metadata": {},
     "output_type": "execute_result"
    }
   ],
   "source": [
    "dfq2_ad.head()"
   ]
  },
  {
   "cell_type": "code",
   "execution_count": 29,
   "metadata": {
    "ExecuteTime": {
     "end_time": "2020-07-24T19:36:28.274760Z",
     "start_time": "2020-07-24T19:36:28.271766Z"
    }
   },
   "outputs": [
    {
     "data": {
      "text/plain": [
       "(21419, 32)"
      ]
     },
     "execution_count": 29,
     "metadata": {},
     "output_type": "execute_result"
    }
   ],
   "source": [
    "dfq2_ad.shape"
   ]
  },
  {
   "cell_type": "code",
   "execution_count": 30,
   "metadata": {
    "ExecuteTime": {
     "end_time": "2020-07-24T19:36:28.279618Z",
     "start_time": "2020-07-24T19:36:28.276129Z"
    }
   },
   "outputs": [],
   "source": [
    "dfq2_ad = df3[['price', 'bedrooms', 'lat', 'long']]"
   ]
  },
  {
   "cell_type": "code",
   "execution_count": 31,
   "metadata": {
    "ExecuteTime": {
     "end_time": "2020-07-24T19:36:28.287945Z",
     "start_time": "2020-07-24T19:36:28.280942Z"
    }
   },
   "outputs": [
    {
     "data": {
      "text/html": [
       "<div>\n",
       "<style scoped>\n",
       "    .dataframe tbody tr th:only-of-type {\n",
       "        vertical-align: middle;\n",
       "    }\n",
       "\n",
       "    .dataframe tbody tr th {\n",
       "        vertical-align: top;\n",
       "    }\n",
       "\n",
       "    .dataframe thead th {\n",
       "        text-align: right;\n",
       "    }\n",
       "</style>\n",
       "<table border=\"1\" class=\"dataframe\">\n",
       "  <thead>\n",
       "    <tr style=\"text-align: right;\">\n",
       "      <th></th>\n",
       "      <th>price</th>\n",
       "      <th>bedrooms</th>\n",
       "      <th>lat</th>\n",
       "      <th>long</th>\n",
       "    </tr>\n",
       "  </thead>\n",
       "  <tbody>\n",
       "    <tr>\n",
       "      <td>0</td>\n",
       "      <td>221900.0</td>\n",
       "      <td>3</td>\n",
       "      <td>47.5112</td>\n",
       "      <td>-122.257</td>\n",
       "    </tr>\n",
       "    <tr>\n",
       "      <td>1</td>\n",
       "      <td>538000.0</td>\n",
       "      <td>3</td>\n",
       "      <td>47.7210</td>\n",
       "      <td>-122.319</td>\n",
       "    </tr>\n",
       "    <tr>\n",
       "      <td>2</td>\n",
       "      <td>180000.0</td>\n",
       "      <td>2</td>\n",
       "      <td>47.7379</td>\n",
       "      <td>-122.233</td>\n",
       "    </tr>\n",
       "    <tr>\n",
       "      <td>3</td>\n",
       "      <td>604000.0</td>\n",
       "      <td>4</td>\n",
       "      <td>47.5208</td>\n",
       "      <td>-122.393</td>\n",
       "    </tr>\n",
       "    <tr>\n",
       "      <td>4</td>\n",
       "      <td>510000.0</td>\n",
       "      <td>3</td>\n",
       "      <td>47.6168</td>\n",
       "      <td>-122.045</td>\n",
       "    </tr>\n",
       "  </tbody>\n",
       "</table>\n",
       "</div>"
      ],
      "text/plain": [
       "      price  bedrooms      lat     long\n",
       "0  221900.0         3  47.5112 -122.257\n",
       "1  538000.0         3  47.7210 -122.319\n",
       "2  180000.0         2  47.7379 -122.233\n",
       "3  604000.0         4  47.5208 -122.393\n",
       "4  510000.0         3  47.6168 -122.045"
      ]
     },
     "execution_count": 31,
     "metadata": {},
     "output_type": "execute_result"
    }
   ],
   "source": [
    "dfq2_ad.head()"
   ]
  },
  {
   "cell_type": "code",
   "execution_count": 32,
   "metadata": {
    "ExecuteTime": {
     "end_time": "2020-07-24T19:36:28.292137Z",
     "start_time": "2020-07-24T19:36:28.289204Z"
    }
   },
   "outputs": [
    {
     "data": {
      "text/plain": [
       "(20240, 4)"
      ]
     },
     "execution_count": 32,
     "metadata": {},
     "output_type": "execute_result"
    }
   ],
   "source": [
    "dfq2_ad.shape"
   ]
  },
  {
   "cell_type": "code",
   "execution_count": 33,
   "metadata": {
    "ExecuteTime": {
     "end_time": "2020-07-24T19:36:28.310157Z",
     "start_time": "2020-07-24T19:36:28.293432Z"
    }
   },
   "outputs": [],
   "source": [
    "dfq2_ad.loc[(dfq2_ad['lat'] >= 47.5 ) & (dfq2_ad['long'] < -122.3), \"sector\"] = 1\n",
    "dfq2_ad.loc[(dfq2_ad['lat'] >= 47.5 ) & (dfq2_ad['long'] > -122.3), \"sector\"] = 2\n",
    "dfq2_ad.loc[(dfq2_ad['lat'] < 47.5 ) & (dfq2_ad['long'] > -122.3), \"sector\"] = 3\n",
    "dfq2_ad.loc[(dfq2_ad['lat'] < 47.5 ) & (dfq2_ad['long'] < -122.3), \"sector\"] = 4"
   ]
  },
  {
   "cell_type": "code",
   "execution_count": 34,
   "metadata": {
    "ExecuteTime": {
     "end_time": "2020-07-24T19:36:28.319043Z",
     "start_time": "2020-07-24T19:36:28.311431Z"
    }
   },
   "outputs": [
    {
     "data": {
      "text/html": [
       "<div>\n",
       "<style scoped>\n",
       "    .dataframe tbody tr th:only-of-type {\n",
       "        vertical-align: middle;\n",
       "    }\n",
       "\n",
       "    .dataframe tbody tr th {\n",
       "        vertical-align: top;\n",
       "    }\n",
       "\n",
       "    .dataframe thead th {\n",
       "        text-align: right;\n",
       "    }\n",
       "</style>\n",
       "<table border=\"1\" class=\"dataframe\">\n",
       "  <thead>\n",
       "    <tr style=\"text-align: right;\">\n",
       "      <th></th>\n",
       "      <th>price</th>\n",
       "      <th>bedrooms</th>\n",
       "      <th>lat</th>\n",
       "      <th>long</th>\n",
       "      <th>sector</th>\n",
       "    </tr>\n",
       "  </thead>\n",
       "  <tbody>\n",
       "    <tr>\n",
       "      <td>0</td>\n",
       "      <td>221900.0</td>\n",
       "      <td>3</td>\n",
       "      <td>47.5112</td>\n",
       "      <td>-122.257</td>\n",
       "      <td>2.0</td>\n",
       "    </tr>\n",
       "    <tr>\n",
       "      <td>1</td>\n",
       "      <td>538000.0</td>\n",
       "      <td>3</td>\n",
       "      <td>47.7210</td>\n",
       "      <td>-122.319</td>\n",
       "      <td>1.0</td>\n",
       "    </tr>\n",
       "    <tr>\n",
       "      <td>2</td>\n",
       "      <td>180000.0</td>\n",
       "      <td>2</td>\n",
       "      <td>47.7379</td>\n",
       "      <td>-122.233</td>\n",
       "      <td>2.0</td>\n",
       "    </tr>\n",
       "    <tr>\n",
       "      <td>3</td>\n",
       "      <td>604000.0</td>\n",
       "      <td>4</td>\n",
       "      <td>47.5208</td>\n",
       "      <td>-122.393</td>\n",
       "      <td>1.0</td>\n",
       "    </tr>\n",
       "    <tr>\n",
       "      <td>4</td>\n",
       "      <td>510000.0</td>\n",
       "      <td>3</td>\n",
       "      <td>47.6168</td>\n",
       "      <td>-122.045</td>\n",
       "      <td>2.0</td>\n",
       "    </tr>\n",
       "  </tbody>\n",
       "</table>\n",
       "</div>"
      ],
      "text/plain": [
       "      price  bedrooms      lat     long  sector\n",
       "0  221900.0         3  47.5112 -122.257     2.0\n",
       "1  538000.0         3  47.7210 -122.319     1.0\n",
       "2  180000.0         2  47.7379 -122.233     2.0\n",
       "3  604000.0         4  47.5208 -122.393     1.0\n",
       "4  510000.0         3  47.6168 -122.045     2.0"
      ]
     },
     "execution_count": 34,
     "metadata": {},
     "output_type": "execute_result"
    }
   ],
   "source": [
    "dfq2_ad.head()"
   ]
  },
  {
   "cell_type": "code",
   "execution_count": 35,
   "metadata": {
    "ExecuteTime": {
     "end_time": "2020-07-24T19:36:28.323603Z",
     "start_time": "2020-07-24T19:36:28.320355Z"
    }
   },
   "outputs": [],
   "source": [
    "dfq2_ad.drop(['lat', 'long'], axis=1, inplace=True)"
   ]
  },
  {
   "cell_type": "code",
   "execution_count": 36,
   "metadata": {
    "ExecuteTime": {
     "end_time": "2020-07-24T19:36:28.337112Z",
     "start_time": "2020-07-24T19:36:28.324818Z"
    }
   },
   "outputs": [
    {
     "data": {
      "text/html": [
       "<div>\n",
       "<style scoped>\n",
       "    .dataframe tbody tr th:only-of-type {\n",
       "        vertical-align: middle;\n",
       "    }\n",
       "\n",
       "    .dataframe tbody tr th {\n",
       "        vertical-align: top;\n",
       "    }\n",
       "\n",
       "    .dataframe thead th {\n",
       "        text-align: right;\n",
       "    }\n",
       "</style>\n",
       "<table border=\"1\" class=\"dataframe\">\n",
       "  <thead>\n",
       "    <tr style=\"text-align: right;\">\n",
       "      <th></th>\n",
       "      <th>bedrooms</th>\n",
       "      <th>sector</th>\n",
       "      <th>price</th>\n",
       "    </tr>\n",
       "  </thead>\n",
       "  <tbody>\n",
       "    <tr>\n",
       "      <td>0</td>\n",
       "      <td>1</td>\n",
       "      <td>1.0</td>\n",
       "      <td>332611.37</td>\n",
       "    </tr>\n",
       "    <tr>\n",
       "      <td>1</td>\n",
       "      <td>1</td>\n",
       "      <td>2.0</td>\n",
       "      <td>343144.68</td>\n",
       "    </tr>\n",
       "    <tr>\n",
       "      <td>2</td>\n",
       "      <td>1</td>\n",
       "      <td>3.0</td>\n",
       "      <td>233585.93</td>\n",
       "    </tr>\n",
       "    <tr>\n",
       "      <td>3</td>\n",
       "      <td>1</td>\n",
       "      <td>4.0</td>\n",
       "      <td>292837.50</td>\n",
       "    </tr>\n",
       "    <tr>\n",
       "      <td>4</td>\n",
       "      <td>2</td>\n",
       "      <td>1.0</td>\n",
       "      <td>422749.88</td>\n",
       "    </tr>\n",
       "  </tbody>\n",
       "</table>\n",
       "</div>"
      ],
      "text/plain": [
       "   bedrooms  sector      price\n",
       "0         1     1.0  332611.37\n",
       "1         1     2.0  343144.68\n",
       "2         1     3.0  233585.93\n",
       "3         1     4.0  292837.50\n",
       "4         2     1.0  422749.88"
      ]
     },
     "execution_count": 36,
     "metadata": {},
     "output_type": "execute_result"
    }
   ],
   "source": [
    "dfq2_ad = dfq2_ad.groupby(['bedrooms', 'sector']).mean().round(2)\n",
    "dfq2_ad.reset_index(inplace=True)\n",
    "dfq2_ad.head()"
   ]
  },
  {
   "cell_type": "code",
   "execution_count": 37,
   "metadata": {
    "ExecuteTime": {
     "end_time": "2020-07-24T19:36:28.667097Z",
     "start_time": "2020-07-24T19:36:28.338351Z"
    }
   },
   "outputs": [
    {
     "data": {
      "image/png": "[encoded data removed]",
      "text/plain": [
       "<Figure size 1872x576 with 1 Axes>"
      ]
     },
     "metadata": {},
     "output_type": "display_data"
    }
   ],
   "source": [
    "#plt.rcParams[\"axes.labelsize\"] = 20\n",
    "#plt.rcParams[\"axes.titlesize\"] = 20\n",
    "sns.set(font_scale = 2)\n",
    "\n",
    "plt.figure(figsize=(26,8))\n",
    "sns.barplot(x='sector', y='price', data=dfq2_ad, hue='bedrooms', palette=\"cubehelix\")\n",
    "plt.legend(bbox_to_anchor=(1.05, 1), loc=2, borderaxespad=0.)\n",
    "plt.title('Avg Price per Number of Bedrooms by Sector')\n",
    "plt.xlabel('Sector Number')\n",
    "plt.ylabel('Avg Price/Number of bedroom')\n",
    "plt.show()"
   ]
  },
  {
   "cell_type": "markdown",
   "metadata": {},
   "source": [
    "# Question 3"
   ]
  },
  {
   "cell_type": "markdown",
   "metadata": {},
   "source": [
    "Here I will try look at the waterfront. I already know from the Linear Regression Model that it doesn't offer much in terms or being a predictive variable. Maybe this is due to the low number within that sample compared to the inland properties. Keep in mind that inland is referring to properties with no waterfront view, and not properly located in the waterfront.\n",
    "\n",
    "For this purpose I will have to engineer again the sectors, but this time is direct as it is done above, and also I will have to get more information from the original dataframe.\n",
    "\n",
    "Not much more to explain here but just to proceed with a similar workflow as the other variables above:"
   ]
  },
  {
   "cell_type": "code",
   "execution_count": 38,
   "metadata": {
    "ExecuteTime": {
     "end_time": "2020-07-24T19:36:28.678421Z",
     "start_time": "2020-07-24T19:36:28.668881Z"
    }
   },
   "outputs": [
    {
     "data": {
      "text/html": [
       "<div>\n",
       "<style scoped>\n",
       "    .dataframe tbody tr th:only-of-type {\n",
       "        vertical-align: middle;\n",
       "    }\n",
       "\n",
       "    .dataframe tbody tr th {\n",
       "        vertical-align: top;\n",
       "    }\n",
       "\n",
       "    .dataframe thead th {\n",
       "        text-align: right;\n",
       "    }\n",
       "</style>\n",
       "<table border=\"1\" class=\"dataframe\">\n",
       "  <thead>\n",
       "    <tr style=\"text-align: right;\">\n",
       "      <th></th>\n",
       "      <th>price</th>\n",
       "      <th>lat</th>\n",
       "      <th>long</th>\n",
       "      <th>waterfront</th>\n",
       "      <th>sqft_living</th>\n",
       "    </tr>\n",
       "  </thead>\n",
       "  <tbody>\n",
       "    <tr>\n",
       "      <td>0</td>\n",
       "      <td>221900.0</td>\n",
       "      <td>47.5112</td>\n",
       "      <td>-122.257</td>\n",
       "      <td>0.0</td>\n",
       "      <td>1180</td>\n",
       "    </tr>\n",
       "    <tr>\n",
       "      <td>1</td>\n",
       "      <td>538000.0</td>\n",
       "      <td>47.7210</td>\n",
       "      <td>-122.319</td>\n",
       "      <td>0.0</td>\n",
       "      <td>2570</td>\n",
       "    </tr>\n",
       "    <tr>\n",
       "      <td>2</td>\n",
       "      <td>180000.0</td>\n",
       "      <td>47.7379</td>\n",
       "      <td>-122.233</td>\n",
       "      <td>0.0</td>\n",
       "      <td>770</td>\n",
       "    </tr>\n",
       "    <tr>\n",
       "      <td>3</td>\n",
       "      <td>604000.0</td>\n",
       "      <td>47.5208</td>\n",
       "      <td>-122.393</td>\n",
       "      <td>0.0</td>\n",
       "      <td>1960</td>\n",
       "    </tr>\n",
       "    <tr>\n",
       "      <td>4</td>\n",
       "      <td>510000.0</td>\n",
       "      <td>47.6168</td>\n",
       "      <td>-122.045</td>\n",
       "      <td>0.0</td>\n",
       "      <td>1680</td>\n",
       "    </tr>\n",
       "  </tbody>\n",
       "</table>\n",
       "</div>"
      ],
      "text/plain": [
       "      price      lat     long  waterfront  sqft_living\n",
       "0  221900.0  47.5112 -122.257         0.0         1180\n",
       "1  538000.0  47.7210 -122.319         0.0         2570\n",
       "2  180000.0  47.7379 -122.233         0.0          770\n",
       "3  604000.0  47.5208 -122.393         0.0         1960\n",
       "4  510000.0  47.6168 -122.045         0.0         1680"
      ]
     },
     "execution_count": 38,
     "metadata": {},
     "output_type": "execute_result"
    }
   ],
   "source": [
    "dfq3 = df3[['price', 'lat', 'long', 'waterfront', 'sqft_living']]\n",
    "dfq3.head()"
   ]
  },
  {
   "cell_type": "markdown",
   "metadata": {},
   "source": [
    "## EDA & Engineering "
   ]
  },
  {
   "cell_type": "code",
   "execution_count": 39,
   "metadata": {
    "ExecuteTime": {
     "end_time": "2020-07-24T19:36:28.696802Z",
     "start_time": "2020-07-24T19:36:28.680105Z"
    }
   },
   "outputs": [],
   "source": [
    "dfq3.loc[(dfq3['lat'] >= 47.5 ) & (dfq3['long'] < -122.3), \"sector\"] = 1\n",
    "dfq3.loc[(dfq3['lat'] >= 47.5 ) & (dfq3['long'] > -122.3), \"sector\"] = 2\n",
    "dfq3.loc[(dfq3['lat'] < 47.5 ) & (dfq3['long'] > -122.3), \"sector\"] = 3\n",
    "dfq3.loc[(dfq3['lat'] < 47.5 ) & (dfq3['long'] < -122.3), \"sector\"] = 4"
   ]
  },
  {
   "cell_type": "code",
   "execution_count": 40,
   "metadata": {
    "ExecuteTime": {
     "end_time": "2020-07-24T19:36:28.701088Z",
     "start_time": "2020-07-24T19:36:28.697869Z"
    }
   },
   "outputs": [],
   "source": [
    "dfq3.drop(['lat', 'long'], axis=1, inplace=True)"
   ]
  },
  {
   "cell_type": "code",
   "execution_count": 41,
   "metadata": {
    "ExecuteTime": {
     "end_time": "2020-07-24T19:36:28.709823Z",
     "start_time": "2020-07-24T19:36:28.702555Z"
    }
   },
   "outputs": [
    {
     "data": {
      "text/html": [
       "<div>\n",
       "<style scoped>\n",
       "    .dataframe tbody tr th:only-of-type {\n",
       "        vertical-align: middle;\n",
       "    }\n",
       "\n",
       "    .dataframe tbody tr th {\n",
       "        vertical-align: top;\n",
       "    }\n",
       "\n",
       "    .dataframe thead th {\n",
       "        text-align: right;\n",
       "    }\n",
       "</style>\n",
       "<table border=\"1\" class=\"dataframe\">\n",
       "  <thead>\n",
       "    <tr style=\"text-align: right;\">\n",
       "      <th></th>\n",
       "      <th>price</th>\n",
       "      <th>waterfront</th>\n",
       "      <th>sqft_living</th>\n",
       "      <th>sector</th>\n",
       "    </tr>\n",
       "  </thead>\n",
       "  <tbody>\n",
       "    <tr>\n",
       "      <td>0</td>\n",
       "      <td>221900.0</td>\n",
       "      <td>0.0</td>\n",
       "      <td>1180</td>\n",
       "      <td>2.0</td>\n",
       "    </tr>\n",
       "    <tr>\n",
       "      <td>1</td>\n",
       "      <td>538000.0</td>\n",
       "      <td>0.0</td>\n",
       "      <td>2570</td>\n",
       "      <td>1.0</td>\n",
       "    </tr>\n",
       "    <tr>\n",
       "      <td>2</td>\n",
       "      <td>180000.0</td>\n",
       "      <td>0.0</td>\n",
       "      <td>770</td>\n",
       "      <td>2.0</td>\n",
       "    </tr>\n",
       "    <tr>\n",
       "      <td>3</td>\n",
       "      <td>604000.0</td>\n",
       "      <td>0.0</td>\n",
       "      <td>1960</td>\n",
       "      <td>1.0</td>\n",
       "    </tr>\n",
       "    <tr>\n",
       "      <td>4</td>\n",
       "      <td>510000.0</td>\n",
       "      <td>0.0</td>\n",
       "      <td>1680</td>\n",
       "      <td>2.0</td>\n",
       "    </tr>\n",
       "  </tbody>\n",
       "</table>\n",
       "</div>"
      ],
      "text/plain": [
       "      price  waterfront  sqft_living  sector\n",
       "0  221900.0         0.0         1180     2.0\n",
       "1  538000.0         0.0         2570     1.0\n",
       "2  180000.0         0.0          770     2.0\n",
       "3  604000.0         0.0         1960     1.0\n",
       "4  510000.0         0.0         1680     2.0"
      ]
     },
     "execution_count": 41,
     "metadata": {},
     "output_type": "execute_result"
    }
   ],
   "source": [
    "dfq3.head()"
   ]
  },
  {
   "cell_type": "code",
   "execution_count": 42,
   "metadata": {
    "ExecuteTime": {
     "end_time": "2020-07-24T19:36:29.177261Z",
     "start_time": "2020-07-24T19:36:28.711247Z"
    }
   },
   "outputs": [
    {
     "data": {
      "image/png": "[encoded data removed]",
      "text/plain": [
       "<Figure size 1008x576 with 1 Axes>"
      ]
     },
     "metadata": {},
     "output_type": "display_data"
    }
   ],
   "source": [
    "sns.set(font_scale = 2)\n",
    "\n",
    "plt.figure(figsize=(14,8))\n",
    "sns.barplot(x='sector', y='price', data=dfq3, hue='waterfront')\n",
    "plt.legend(title='Location', bbox_to_anchor=(1.05, 1), loc=2, labels=['Inland', 'Waterfront'], borderaxespad=0.)\n",
    "plt.title('Avg Price comparison between Waterfront and Inland')\n",
    "plt.xlabel('Sector Number')\n",
    "plt.ylabel('Avg Price')\n",
    "plt.show()"
   ]
  },
  {
   "cell_type": "raw",
   "metadata": {},
   "source": [
    "For every sector the properties with a waterfront view end up being more expensive as it is expected, with the exception of sector 3. This is most probably because the size of the average home is greater than that with the waterfront, therefore by square foot price the waterfront view there ends up being cheaper. Thats the conclusion made after reviewing the numeric data, which is aligned with the plot above "
   ]
  },
  {
   "cell_type": "markdown",
   "metadata": {},
   "source": [
    "# Question 4"
   ]
  },
  {
   "cell_type": "markdown",
   "metadata": {},
   "source": [
    "This will be a similar approach than the one for the bedrooms with the difference that sub-groups will be created for the bathrooms as there are many that are not round numbers. For details of this look at the creation of the No_bathrooms below which stands for Number of bathrooms, and not, 'no' bathrooms. "
   ]
  },
  {
   "cell_type": "code",
   "execution_count": 43,
   "metadata": {
    "ExecuteTime": {
     "end_time": "2020-07-24T19:36:29.182471Z",
     "start_time": "2020-07-24T19:36:29.178771Z"
    }
   },
   "outputs": [],
   "source": [
    "dfq4 = df3[['price', 'lat', 'long', 'bathrooms', 'sqft_living']]"
   ]
  },
  {
   "cell_type": "markdown",
   "metadata": {},
   "source": [
    "## EDA & Engineering "
   ]
  },
  {
   "cell_type": "code",
   "execution_count": 44,
   "metadata": {
    "ExecuteTime": {
     "end_time": "2020-07-24T19:36:29.199415Z",
     "start_time": "2020-07-24T19:36:29.183968Z"
    }
   },
   "outputs": [],
   "source": [
    "dfq4.loc[(dfq4['lat'] >= 47.5 ) & (dfq4['long'] < -122.3), \"sector\"] = 1\n",
    "dfq4.loc[(dfq4['lat'] >= 47.5 ) & (dfq4['long'] > -122.3), \"sector\"] = 2\n",
    "dfq4.loc[(dfq4['lat'] < 47.5 ) & (dfq4['long'] > -122.3), \"sector\"] = 3\n",
    "dfq4.loc[(dfq4['lat'] < 47.5 ) & (dfq4['long'] < -122.3), \"sector\"] = 4"
   ]
  },
  {
   "cell_type": "code",
   "execution_count": 45,
   "metadata": {
    "ExecuteTime": {
     "end_time": "2020-07-24T19:36:29.208020Z",
     "start_time": "2020-07-24T19:36:29.200315Z"
    }
   },
   "outputs": [
    {
     "data": {
      "text/html": [
       "<div>\n",
       "<style scoped>\n",
       "    .dataframe tbody tr th:only-of-type {\n",
       "        vertical-align: middle;\n",
       "    }\n",
       "\n",
       "    .dataframe tbody tr th {\n",
       "        vertical-align: top;\n",
       "    }\n",
       "\n",
       "    .dataframe thead th {\n",
       "        text-align: right;\n",
       "    }\n",
       "</style>\n",
       "<table border=\"1\" class=\"dataframe\">\n",
       "  <thead>\n",
       "    <tr style=\"text-align: right;\">\n",
       "      <th></th>\n",
       "      <th>price</th>\n",
       "      <th>bathrooms</th>\n",
       "      <th>sqft_living</th>\n",
       "      <th>sector</th>\n",
       "    </tr>\n",
       "  </thead>\n",
       "  <tbody>\n",
       "    <tr>\n",
       "      <td>0</td>\n",
       "      <td>221900.0</td>\n",
       "      <td>1.00</td>\n",
       "      <td>1180</td>\n",
       "      <td>2.0</td>\n",
       "    </tr>\n",
       "    <tr>\n",
       "      <td>1</td>\n",
       "      <td>538000.0</td>\n",
       "      <td>2.25</td>\n",
       "      <td>2570</td>\n",
       "      <td>1.0</td>\n",
       "    </tr>\n",
       "    <tr>\n",
       "      <td>2</td>\n",
       "      <td>180000.0</td>\n",
       "      <td>1.00</td>\n",
       "      <td>770</td>\n",
       "      <td>2.0</td>\n",
       "    </tr>\n",
       "    <tr>\n",
       "      <td>3</td>\n",
       "      <td>604000.0</td>\n",
       "      <td>3.00</td>\n",
       "      <td>1960</td>\n",
       "      <td>1.0</td>\n",
       "    </tr>\n",
       "    <tr>\n",
       "      <td>4</td>\n",
       "      <td>510000.0</td>\n",
       "      <td>2.00</td>\n",
       "      <td>1680</td>\n",
       "      <td>2.0</td>\n",
       "    </tr>\n",
       "  </tbody>\n",
       "</table>\n",
       "</div>"
      ],
      "text/plain": [
       "      price  bathrooms  sqft_living  sector\n",
       "0  221900.0       1.00         1180     2.0\n",
       "1  538000.0       2.25         2570     1.0\n",
       "2  180000.0       1.00          770     2.0\n",
       "3  604000.0       3.00         1960     1.0\n",
       "4  510000.0       2.00         1680     2.0"
      ]
     },
     "execution_count": 45,
     "metadata": {},
     "output_type": "execute_result"
    }
   ],
   "source": [
    "dfq4.drop(['lat', 'long'], axis=1, inplace=True)\n",
    "dfq4.head()"
   ]
  },
  {
   "cell_type": "code",
   "execution_count": 46,
   "metadata": {
    "ExecuteTime": {
     "end_time": "2020-07-24T19:36:29.215030Z",
     "start_time": "2020-07-24T19:36:29.209699Z"
    }
   },
   "outputs": [
    {
     "data": {
      "text/plain": [
       "2.50    5164\n",
       "1.00    3792\n",
       "1.75    2986\n",
       "2.25    1942\n",
       "2.00    1892\n",
       "1.50    1415\n",
       "2.75    1101\n",
       "3.00     659\n",
       "3.50     537\n",
       "3.25     420\n",
       "3.75      82\n",
       "4.00      70\n",
       "0.75      70\n",
       "4.50      50\n",
       "4.25      28\n",
       "5.00       8\n",
       "1.25       7\n",
       "4.75       5\n",
       "0.50       4\n",
       "5.25       3\n",
       "6.00       1\n",
       "7.50       1\n",
       "5.50       1\n",
       "6.75       1\n",
       "5.75       1\n",
       "Name: bathrooms, dtype: int64"
      ]
     },
     "execution_count": 46,
     "metadata": {},
     "output_type": "execute_result"
    }
   ],
   "source": [
    "dfq4.bathrooms.value_counts()"
   ]
  },
  {
   "cell_type": "markdown",
   "metadata": {},
   "source": [
    "These are too many rows to work with if I am going to assess bathrooms per sector. As a solution I will generate categories, with round numbers: 1, 2, 3, 4, 5, 6 and 7 bathrooms"
   ]
  },
  {
   "cell_type": "code",
   "execution_count": 47,
   "metadata": {
    "ExecuteTime": {
     "end_time": "2020-07-24T19:36:29.238450Z",
     "start_time": "2020-07-24T19:36:29.216293Z"
    }
   },
   "outputs": [],
   "source": [
    "dfq4.loc[(dfq4['bathrooms'] > 0) & (dfq4['bathrooms'] <= 1.5), \"No_bathrooms\"] = 1\n",
    "dfq4.loc[(dfq4['bathrooms'] > 1.5) & (dfq4['bathrooms'] <= 2.5), \"No_bathrooms\"] = 2 \n",
    "dfq4.loc[(dfq4['bathrooms'] > 2.5) & (dfq4['bathrooms'] <= 3.5), \"No_bathrooms\"] = 3\n",
    "dfq4.loc[(dfq4['bathrooms'] > 3.5) & (dfq4['bathrooms'] <= 4.5), \"No_bathrooms\"] = 4\n",
    "dfq4.loc[(dfq4['bathrooms'] > 4.5) & (dfq4['bathrooms'] <= 5.5), \"No_bathrooms\"] = 5\n",
    "dfq4.loc[(dfq4['bathrooms'] > 5.5) & (dfq4['bathrooms'] <= 6.5), \"No_bathrooms\"] = 6\n",
    "dfq4.loc[(dfq4['bathrooms'] > 6.5) & (dfq4['bathrooms'] <= 7.5), \"No_bathrooms\"] = 7\n"
   ]
  },
  {
   "cell_type": "code",
   "execution_count": 48,
   "metadata": {
    "ExecuteTime": {
     "end_time": "2020-07-24T19:36:29.248414Z",
     "start_time": "2020-07-24T19:36:29.239793Z"
    }
   },
   "outputs": [
    {
     "data": {
      "text/html": [
       "<div>\n",
       "<style scoped>\n",
       "    .dataframe tbody tr th:only-of-type {\n",
       "        vertical-align: middle;\n",
       "    }\n",
       "\n",
       "    .dataframe tbody tr th {\n",
       "        vertical-align: top;\n",
       "    }\n",
       "\n",
       "    .dataframe thead th {\n",
       "        text-align: right;\n",
       "    }\n",
       "</style>\n",
       "<table border=\"1\" class=\"dataframe\">\n",
       "  <thead>\n",
       "    <tr style=\"text-align: right;\">\n",
       "      <th></th>\n",
       "      <th>price</th>\n",
       "      <th>bathrooms</th>\n",
       "      <th>sqft_living</th>\n",
       "      <th>sector</th>\n",
       "      <th>No_bathrooms</th>\n",
       "    </tr>\n",
       "  </thead>\n",
       "  <tbody>\n",
       "    <tr>\n",
       "      <td>0</td>\n",
       "      <td>221900.0</td>\n",
       "      <td>1.00</td>\n",
       "      <td>1180</td>\n",
       "      <td>2.0</td>\n",
       "      <td>1.0</td>\n",
       "    </tr>\n",
       "    <tr>\n",
       "      <td>1</td>\n",
       "      <td>538000.0</td>\n",
       "      <td>2.25</td>\n",
       "      <td>2570</td>\n",
       "      <td>1.0</td>\n",
       "      <td>2.0</td>\n",
       "    </tr>\n",
       "    <tr>\n",
       "      <td>2</td>\n",
       "      <td>180000.0</td>\n",
       "      <td>1.00</td>\n",
       "      <td>770</td>\n",
       "      <td>2.0</td>\n",
       "      <td>1.0</td>\n",
       "    </tr>\n",
       "    <tr>\n",
       "      <td>3</td>\n",
       "      <td>604000.0</td>\n",
       "      <td>3.00</td>\n",
       "      <td>1960</td>\n",
       "      <td>1.0</td>\n",
       "      <td>3.0</td>\n",
       "    </tr>\n",
       "    <tr>\n",
       "      <td>4</td>\n",
       "      <td>510000.0</td>\n",
       "      <td>2.00</td>\n",
       "      <td>1680</td>\n",
       "      <td>2.0</td>\n",
       "      <td>2.0</td>\n",
       "    </tr>\n",
       "  </tbody>\n",
       "</table>\n",
       "</div>"
      ],
      "text/plain": [
       "      price  bathrooms  sqft_living  sector  No_bathrooms\n",
       "0  221900.0       1.00         1180     2.0           1.0\n",
       "1  538000.0       2.25         2570     1.0           2.0\n",
       "2  180000.0       1.00          770     2.0           1.0\n",
       "3  604000.0       3.00         1960     1.0           3.0\n",
       "4  510000.0       2.00         1680     2.0           2.0"
      ]
     },
     "execution_count": 48,
     "metadata": {},
     "output_type": "execute_result"
    }
   ],
   "source": [
    "dfq4.head()"
   ]
  },
  {
   "cell_type": "code",
   "execution_count": 49,
   "metadata": {
    "ExecuteTime": {
     "end_time": "2020-07-24T19:36:29.947475Z",
     "start_time": "2020-07-24T19:36:29.250065Z"
    }
   },
   "outputs": [
    {
     "data": {
      "image/png": "[encoded data removed]",
      "text/plain": [
       "<Figure size 1152x576 with 1 Axes>"
      ]
     },
     "metadata": {},
     "output_type": "display_data"
    }
   ],
   "source": [
    "sns.set(font_scale = 2)\n",
    "\n",
    "plt.figure(figsize=(16,8))\n",
    "sns.barplot(x='sector', y='price', data=dfq4, hue='No_bathrooms', palette=\"cubehelix\")\n",
    "plt.legend(bbox_to_anchor=(1.05, 1), loc=2, borderaxespad=0.)\n",
    "plt.title('Avg Price per Number of Bathrooms by Sector')\n",
    "plt.xlabel('Sector Number')\n",
    "plt.ylabel('Avg Price/Number of bathrooms')\n",
    "plt.show()"
   ]
  },
  {
   "cell_type": "markdown",
   "metadata": {},
   "source": [
    "Overall there seems to be a magic number for the numbers of bathrooms. Based on our data, which has been cut to 1,000,000 Dollars, that number is 4. After 4 bathrooms the plots above suggest that the home price in average decreases with the exception of sector 4. It is believe after looking at the data that those two high values (5 and 7) are outliers that were missed during the cleaning, but if properly cleaned this would align with the rest of the models."
   ]
  },
  {
   "cell_type": "markdown",
   "metadata": {},
   "source": [
    "# Question 5"
   ]
  },
  {
   "cell_type": "markdown",
   "metadata": {},
   "source": [
    "Home age is an engineer variable which proved not to be predictive when it comes to home price. However, it was decided that it was worth a look at its numbers again as we thought that very modern homes will be ore expensive, but also some of the older typical houses would be expensive. We will wait for the results below to see if this assumptions were correct.\n",
    "\n",
    "There will be a little bit of engineering again here. The code will be the same just with modified values."
   ]
  },
  {
   "cell_type": "code",
   "execution_count": 50,
   "metadata": {
    "ExecuteTime": {
     "end_time": "2020-07-24T19:36:29.957794Z",
     "start_time": "2020-07-24T19:36:29.948706Z"
    }
   },
   "outputs": [
    {
     "data": {
      "text/html": [
       "<div>\n",
       "<style scoped>\n",
       "    .dataframe tbody tr th:only-of-type {\n",
       "        vertical-align: middle;\n",
       "    }\n",
       "\n",
       "    .dataframe tbody tr th {\n",
       "        vertical-align: top;\n",
       "    }\n",
       "\n",
       "    .dataframe thead th {\n",
       "        text-align: right;\n",
       "    }\n",
       "</style>\n",
       "<table border=\"1\" class=\"dataframe\">\n",
       "  <thead>\n",
       "    <tr style=\"text-align: right;\">\n",
       "      <th></th>\n",
       "      <th>price</th>\n",
       "      <th>home_age</th>\n",
       "      <th>lat</th>\n",
       "      <th>long</th>\n",
       "      <th>sqft_living</th>\n",
       "    </tr>\n",
       "  </thead>\n",
       "  <tbody>\n",
       "    <tr>\n",
       "      <td>0</td>\n",
       "      <td>221900.0</td>\n",
       "      <td>65</td>\n",
       "      <td>47.5112</td>\n",
       "      <td>-122.257</td>\n",
       "      <td>1180</td>\n",
       "    </tr>\n",
       "    <tr>\n",
       "      <td>1</td>\n",
       "      <td>538000.0</td>\n",
       "      <td>69</td>\n",
       "      <td>47.7210</td>\n",
       "      <td>-122.319</td>\n",
       "      <td>2570</td>\n",
       "    </tr>\n",
       "    <tr>\n",
       "      <td>2</td>\n",
       "      <td>180000.0</td>\n",
       "      <td>87</td>\n",
       "      <td>47.7379</td>\n",
       "      <td>-122.233</td>\n",
       "      <td>770</td>\n",
       "    </tr>\n",
       "    <tr>\n",
       "      <td>3</td>\n",
       "      <td>604000.0</td>\n",
       "      <td>55</td>\n",
       "      <td>47.5208</td>\n",
       "      <td>-122.393</td>\n",
       "      <td>1960</td>\n",
       "    </tr>\n",
       "    <tr>\n",
       "      <td>4</td>\n",
       "      <td>510000.0</td>\n",
       "      <td>33</td>\n",
       "      <td>47.6168</td>\n",
       "      <td>-122.045</td>\n",
       "      <td>1680</td>\n",
       "    </tr>\n",
       "  </tbody>\n",
       "</table>\n",
       "</div>"
      ],
      "text/plain": [
       "      price  home_age      lat     long  sqft_living\n",
       "0  221900.0        65  47.5112 -122.257         1180\n",
       "1  538000.0        69  47.7210 -122.319         2570\n",
       "2  180000.0        87  47.7379 -122.233          770\n",
       "3  604000.0        55  47.5208 -122.393         1960\n",
       "4  510000.0        33  47.6168 -122.045         1680"
      ]
     },
     "execution_count": 50,
     "metadata": {},
     "output_type": "execute_result"
    }
   ],
   "source": [
    "dfq5 = df3[['price', 'home_age', 'lat', 'long', 'sqft_living']]\n",
    "dfq5.head()"
   ]
  },
  {
   "cell_type": "markdown",
   "metadata": {},
   "source": [
    "## EDA & Engineering "
   ]
  },
  {
   "cell_type": "code",
   "execution_count": 51,
   "metadata": {
    "ExecuteTime": {
     "end_time": "2020-07-24T19:36:29.962147Z",
     "start_time": "2020-07-24T19:36:29.959176Z"
    }
   },
   "outputs": [
    {
     "data": {
      "text/plain": [
       "(20240, 5)"
      ]
     },
     "execution_count": 51,
     "metadata": {},
     "output_type": "execute_result"
    }
   ],
   "source": [
    "dfq5.shape"
   ]
  },
  {
   "cell_type": "code",
   "execution_count": 52,
   "metadata": {
    "ExecuteTime": {
     "end_time": "2020-07-24T19:36:30.001981Z",
     "start_time": "2020-07-24T19:36:29.963593Z"
    }
   },
   "outputs": [],
   "source": [
    "dfq5.loc[(dfq5['home_age'] > 0) & (dfq5['home_age'] <= 10), \"age_range\"] = 1\n",
    "dfq5.loc[(dfq5['home_age'] >= 11) & (dfq5['home_age'] <= 20), \"age_range\"] = 2 \n",
    "dfq5.loc[(dfq5['home_age'] >= 21) & (dfq5['home_age'] <= 30), \"age_range\"] = 3\n",
    "dfq5.loc[(dfq5['home_age'] >= 31) & (dfq5['home_age'] <= 40), \"age_range\"] = 4\n",
    "dfq5.loc[(dfq5['home_age'] >= 41) & (dfq5['home_age'] <= 50), \"age_range\"] = 5\n",
    "dfq5.loc[(dfq5['home_age'] >= 51) & (dfq5['home_age'] <= 60), \"age_range\"] = 6\n",
    "dfq5.loc[(dfq5['home_age'] >= 61) & (dfq5['home_age'] <= 70), \"age_range\"] = 7\n",
    "dfq5.loc[(dfq5['home_age'] >= 71) & (dfq5['home_age'] <= 80), \"age_range\"] = 8\n",
    "dfq5.loc[(dfq5['home_age'] >= 81) & (dfq5['home_age'] <= 90), \"age_range\"] = 9\n",
    "dfq5.loc[(dfq5['home_age'] >= 91) & (dfq5['home_age'] <= 100), \"age_range\"] = 10\n",
    "dfq5.loc[(dfq5['home_age'] >= 101) & (dfq5['home_age'] <= 110), \"age_range\"] = 11\n",
    "dfq5.loc[(dfq5['home_age'] >= 111) & (dfq5['home_age'] <= 120), \"age_range\"] = 12"
   ]
  },
  {
   "cell_type": "code",
   "execution_count": 53,
   "metadata": {
    "ExecuteTime": {
     "end_time": "2020-07-24T19:36:30.008483Z",
     "start_time": "2020-07-24T19:36:30.003077Z"
    }
   },
   "outputs": [
    {
     "data": {
      "text/plain": [
       "6      509\n",
       "15     423\n",
       "14     407\n",
       "43     403\n",
       "16     401\n",
       "      ... \n",
       "119     28\n",
       "118     24\n",
       "85      22\n",
       "87      21\n",
       "86      19\n",
       "Name: home_age, Length: 116, dtype: int64"
      ]
     },
     "execution_count": 53,
     "metadata": {},
     "output_type": "execute_result"
    }
   ],
   "source": [
    "dfq5.home_age.value_counts()"
   ]
  },
  {
   "cell_type": "code",
   "execution_count": 54,
   "metadata": {
    "ExecuteTime": {
     "end_time": "2020-07-24T19:36:30.017376Z",
     "start_time": "2020-07-24T19:36:30.009642Z"
    }
   },
   "outputs": [
    {
     "data": {
      "text/html": [
       "<div>\n",
       "<style scoped>\n",
       "    .dataframe tbody tr th:only-of-type {\n",
       "        vertical-align: middle;\n",
       "    }\n",
       "\n",
       "    .dataframe tbody tr th {\n",
       "        vertical-align: top;\n",
       "    }\n",
       "\n",
       "    .dataframe thead th {\n",
       "        text-align: right;\n",
       "    }\n",
       "</style>\n",
       "<table border=\"1\" class=\"dataframe\">\n",
       "  <thead>\n",
       "    <tr style=\"text-align: right;\">\n",
       "      <th></th>\n",
       "      <th>price</th>\n",
       "      <th>home_age</th>\n",
       "      <th>lat</th>\n",
       "      <th>long</th>\n",
       "      <th>sqft_living</th>\n",
       "      <th>age_range</th>\n",
       "    </tr>\n",
       "  </thead>\n",
       "  <tbody>\n",
       "    <tr>\n",
       "      <td>0</td>\n",
       "      <td>221900.0</td>\n",
       "      <td>65</td>\n",
       "      <td>47.5112</td>\n",
       "      <td>-122.257</td>\n",
       "      <td>1180</td>\n",
       "      <td>7.0</td>\n",
       "    </tr>\n",
       "    <tr>\n",
       "      <td>1</td>\n",
       "      <td>538000.0</td>\n",
       "      <td>69</td>\n",
       "      <td>47.7210</td>\n",
       "      <td>-122.319</td>\n",
       "      <td>2570</td>\n",
       "      <td>7.0</td>\n",
       "    </tr>\n",
       "    <tr>\n",
       "      <td>2</td>\n",
       "      <td>180000.0</td>\n",
       "      <td>87</td>\n",
       "      <td>47.7379</td>\n",
       "      <td>-122.233</td>\n",
       "      <td>770</td>\n",
       "      <td>9.0</td>\n",
       "    </tr>\n",
       "    <tr>\n",
       "      <td>3</td>\n",
       "      <td>604000.0</td>\n",
       "      <td>55</td>\n",
       "      <td>47.5208</td>\n",
       "      <td>-122.393</td>\n",
       "      <td>1960</td>\n",
       "      <td>6.0</td>\n",
       "    </tr>\n",
       "    <tr>\n",
       "      <td>4</td>\n",
       "      <td>510000.0</td>\n",
       "      <td>33</td>\n",
       "      <td>47.6168</td>\n",
       "      <td>-122.045</td>\n",
       "      <td>1680</td>\n",
       "      <td>4.0</td>\n",
       "    </tr>\n",
       "  </tbody>\n",
       "</table>\n",
       "</div>"
      ],
      "text/plain": [
       "      price  home_age      lat     long  sqft_living  age_range\n",
       "0  221900.0        65  47.5112 -122.257         1180        7.0\n",
       "1  538000.0        69  47.7210 -122.319         2570        7.0\n",
       "2  180000.0        87  47.7379 -122.233          770        9.0\n",
       "3  604000.0        55  47.5208 -122.393         1960        6.0\n",
       "4  510000.0        33  47.6168 -122.045         1680        4.0"
      ]
     },
     "execution_count": 54,
     "metadata": {},
     "output_type": "execute_result"
    }
   ],
   "source": [
    "dfq5.head()"
   ]
  },
  {
   "cell_type": "code",
   "execution_count": 55,
   "metadata": {
    "ExecuteTime": {
     "end_time": "2020-07-24T19:36:30.023862Z",
     "start_time": "2020-07-24T19:36:30.018813Z"
    }
   },
   "outputs": [
    {
     "data": {
      "text/plain": [
       "2.0     3219\n",
       "6.0     2535\n",
       "7.0     2318\n",
       "5.0     2191\n",
       "4.0     2164\n",
       "3.0     2066\n",
       "8.0     1691\n",
       "1.0     1146\n",
       "10.0    1111\n",
       "11.0     749\n",
       "12.0     585\n",
       "9.0      465\n",
       "Name: age_range, dtype: int64"
      ]
     },
     "execution_count": 55,
     "metadata": {},
     "output_type": "execute_result"
    }
   ],
   "source": [
    "dfq5.age_range.value_counts()"
   ]
  },
  {
   "cell_type": "code",
   "execution_count": 56,
   "metadata": {
    "ExecuteTime": {
     "end_time": "2020-07-24T19:36:30.041719Z",
     "start_time": "2020-07-24T19:36:30.024939Z"
    }
   },
   "outputs": [],
   "source": [
    "dfq5.loc[(dfq5['lat'] >= 47.5 ) & (dfq5['long'] < -122.3), \"sector\"] = 1\n",
    "dfq5.loc[(dfq5['lat'] >= 47.5 ) & (dfq5['long'] > -122.3), \"sector\"] = 2\n",
    "dfq5.loc[(dfq5['lat'] < 47.5 ) & (dfq5['long'] > -122.3), \"sector\"] = 3\n",
    "dfq5.loc[(dfq5['lat'] < 47.5 ) & (dfq5['long'] < -122.3), \"sector\"] = 4"
   ]
  },
  {
   "cell_type": "code",
   "execution_count": 57,
   "metadata": {
    "ExecuteTime": {
     "end_time": "2020-07-24T19:36:30.051447Z",
     "start_time": "2020-07-24T19:36:30.043015Z"
    }
   },
   "outputs": [
    {
     "data": {
      "text/html": [
       "<div>\n",
       "<style scoped>\n",
       "    .dataframe tbody tr th:only-of-type {\n",
       "        vertical-align: middle;\n",
       "    }\n",
       "\n",
       "    .dataframe tbody tr th {\n",
       "        vertical-align: top;\n",
       "    }\n",
       "\n",
       "    .dataframe thead th {\n",
       "        text-align: right;\n",
       "    }\n",
       "</style>\n",
       "<table border=\"1\" class=\"dataframe\">\n",
       "  <thead>\n",
       "    <tr style=\"text-align: right;\">\n",
       "      <th></th>\n",
       "      <th>price</th>\n",
       "      <th>home_age</th>\n",
       "      <th>sqft_living</th>\n",
       "      <th>age_range</th>\n",
       "      <th>sector</th>\n",
       "    </tr>\n",
       "  </thead>\n",
       "  <tbody>\n",
       "    <tr>\n",
       "      <td>0</td>\n",
       "      <td>221900.0</td>\n",
       "      <td>65</td>\n",
       "      <td>1180</td>\n",
       "      <td>7.0</td>\n",
       "      <td>2.0</td>\n",
       "    </tr>\n",
       "    <tr>\n",
       "      <td>1</td>\n",
       "      <td>538000.0</td>\n",
       "      <td>69</td>\n",
       "      <td>2570</td>\n",
       "      <td>7.0</td>\n",
       "      <td>1.0</td>\n",
       "    </tr>\n",
       "    <tr>\n",
       "      <td>2</td>\n",
       "      <td>180000.0</td>\n",
       "      <td>87</td>\n",
       "      <td>770</td>\n",
       "      <td>9.0</td>\n",
       "      <td>2.0</td>\n",
       "    </tr>\n",
       "    <tr>\n",
       "      <td>3</td>\n",
       "      <td>604000.0</td>\n",
       "      <td>55</td>\n",
       "      <td>1960</td>\n",
       "      <td>6.0</td>\n",
       "      <td>1.0</td>\n",
       "    </tr>\n",
       "    <tr>\n",
       "      <td>4</td>\n",
       "      <td>510000.0</td>\n",
       "      <td>33</td>\n",
       "      <td>1680</td>\n",
       "      <td>4.0</td>\n",
       "      <td>2.0</td>\n",
       "    </tr>\n",
       "  </tbody>\n",
       "</table>\n",
       "</div>"
      ],
      "text/plain": [
       "      price  home_age  sqft_living  age_range  sector\n",
       "0  221900.0        65         1180        7.0     2.0\n",
       "1  538000.0        69         2570        7.0     1.0\n",
       "2  180000.0        87          770        9.0     2.0\n",
       "3  604000.0        55         1960        6.0     1.0\n",
       "4  510000.0        33         1680        4.0     2.0"
      ]
     },
     "execution_count": 57,
     "metadata": {},
     "output_type": "execute_result"
    }
   ],
   "source": [
    "dfq5.drop(['lat', 'long'], axis=1, inplace=True)\n",
    "dfq5.head()"
   ]
  },
  {
   "cell_type": "code",
   "execution_count": 61,
   "metadata": {
    "ExecuteTime": {
     "end_time": "2020-07-25T11:52:14.581910Z",
     "start_time": "2020-07-25T11:52:13.375799Z"
    }
   },
   "outputs": [
    {
     "data": {
      "image/png": "[encoded data removed]",
      "text/plain": [
       "<Figure size 1152x576 with 1 Axes>"
      ]
     },
     "metadata": {},
     "output_type": "display_data"
    }
   ],
   "source": [
    "sns.set(font_scale = 2)\n",
    "\n",
    "plt.figure(figsize=(16,8))\n",
    "sns.barplot(x='sector', y='price', data=dfq5, hue='age_range', palette=\"cubehelix\")\n",
    "plt.legend(bbox_to_anchor=(1.05, 1), loc=2, borderaxespad=0.)\n",
    "plt.title('Home Average Price based on Age')\n",
    "plt.xlabel('Sector Number')\n",
    "plt.ylabel('Avg Price by Property Age')\n",
    "plt.show()"
   ]
  },
  {
   "cell_type": "markdown",
   "metadata": {},
   "source": [
    "Our predictions seem to be correct up to a certain point. Sector 1 clearly has that trend were recent and old houses are the most expensive ones, as well ass sector 4. Sector 2 might be biased by the data itself as we cropped the most expensive homes by putting our threshold at 1,000,000 dollars, so maybe it still happens there. Finally sector 3 might be suffering of a similar effect as sector 2. \n",
    "\n",
    "In average I think that it is save to say that at least the most modern houses (between 1 to 10 years old) are the most expensive."
   ]
  },
  {
   "cell_type": "code",
   "execution_count": null,
   "metadata": {},
   "outputs": [],
   "source": []
  }
 ],
 "metadata": {
  "kernelspec": {
   "display_name": "learn-env",
   "language": "python",
   "name": "learn-env"
  },
  "language_info": {
   "codemirror_mode": {
    "name": "ipython",
    "version": 3
   },
   "file_extension": ".py",
   "mimetype": "text/x-python",
   "name": "python",
   "nbconvert_exporter": "python",
   "pygments_lexer": "ipython3",
   "version": "3.6.9"
  },
  "toc": {
   "base_numbering": 1,
   "nav_menu": {},
   "number_sections": true,
   "sideBar": true,
   "skip_h1_title": false,
   "title_cell": "Table of Contents",
   "title_sidebar": "Contents",
   "toc_cell": false,
   "toc_position": {},
   "toc_section_display": true,
   "toc_window_display": true
  },
  "varInspector": {
   "cols": {
    "lenName": 16,
    "lenType": 16,
    "lenVar": 40
   },
   "kernels_config": {
    "python": {
     "delete_cmd_postfix": "",
     "delete_cmd_prefix": "del ",
     "library": "var_list.py",
     "varRefreshCmd": "print(var_dic_list())"
    },
    "r": {
     "delete_cmd_postfix": ") ",
     "delete_cmd_prefix": "rm(",
     "library": "var_list.r",
     "varRefreshCmd": "cat(var_dic_list()) "
    }
   },
   "types_to_exclude": [
    "module",
    "function",
    "builtin_function_or_method",
    "instance",
    "_Feature"
   ],
   "window_display": false
  }
 },
 "nbformat": 4,
 "nbformat_minor": 4
}
